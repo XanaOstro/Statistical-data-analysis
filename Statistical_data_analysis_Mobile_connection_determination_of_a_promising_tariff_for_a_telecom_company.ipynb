{
  "nbformat": 4,
  "nbformat_minor": 0,
  "metadata": {
    "colab": {
      "name": "Statistical data analysis_Mobile connection: determination of a promising tariff for a telecom company.ipynb",
      "provenance": []
    },
    "kernelspec": {
      "display_name": "Python 3",
      "language": "python",
      "name": "python3"
    },
    "language_info": {
      "codemirror_mode": {
        "name": "ipython",
        "version": 3
      },
      "file_extension": ".py",
      "mimetype": "text/x-python",
      "name": "python",
      "nbconvert_exporter": "python",
      "pygments_lexer": "ipython3",
      "version": "3.7.8"
    },
    "toc": {
      "base_numbering": 1,
      "nav_menu": {},
      "number_sections": true,
      "sideBar": true,
      "skip_h1_title": true,
      "title_cell": "Table of Contents",
      "title_sidebar": "Contents",
      "toc_cell": false,
      "toc_position": {},
      "toc_section_display": true,
      "toc_window_display": false
    }
  },
  "cells": [
    {
      "cell_type": "markdown",
      "metadata": {
        "id": "1HOEyNgXM4FY"
      },
      "source": [
        "#Определение перспективного тарифа для телеком-компании\n",
        "\n",
        "**Цель проекта:**\n",
        "\n",
        "Скорректировать рекламный бюджет. Проанализировав поведение клиентов, определить, какой тариф из двух приносит больше прибыли оператору.\n",
        "\n",
        "\n",
        "**Описание тарифов:**\n",
        "\n",
        "Тариф «Смарт»\n",
        "\n",
        "Ежемесячная плата: 550 рублей\n",
        "\n",
        "Включено 500 минут разговора, 50 сообщений и 15 Гб интернет-трафика\n",
        "\n",
        "Стоимость услуг сверх тарифного пакета:\n",
        "\n",
        "минута разговора: 3 рубля\n",
        "\n",
        "сообщение: 3 рубля\n",
        "\n",
        "1 Гб интернет-трафика: 200 рублей\n",
        "\n",
        "Тариф «Ультра»\n",
        "\n",
        "Ежемесячная плата: 1950 рублей\n",
        "\n",
        "Включено 3000 минут разговора, 1000 сообщений и 30 Гб интернет-трафика\n",
        "\n",
        "Стоимость услуг сверх тарифного пакета:\n",
        "\n",
        "минута разговора: 1 рубль\n",
        "\n",
        "сообщение: 1 рубль\n",
        "\n",
        "1 Гб интернет-трафика: 150 рублей\n",
        "\n",
        "«Мегалайн» всегда округляет вверх значения минут и мегабайтов. Если пользователь проговорил всего 1 секунду, в тарифе засчитывается целая минута."
      ]
    },
    {
      "cell_type": "markdown",
      "metadata": {
        "id": "d5S4zLyvNhPI"
      },
      "source": [
        "**Описание данных:**\n",
        "\n",
        "**Таблица users** (информация о пользователях):\n",
        "\n",
        "user_id — уникальный идентификатор пользователя\n",
        "\n",
        "first_name — имя пользователя\n",
        "\n",
        "last_name — фамилия пользователя\n",
        "\n",
        "age — возраст пользователя (годы)\n",
        "\n",
        "reg_date — дата подключения тарифа (день, месяц, год)\n",
        "\n",
        "churn_date — дата прекращения пользования тарифом (если значение пропущено, то тариф ещё действовал на момент выгрузки данных)\n",
        "\n",
        "city — город проживания пользователя\n",
        "\n",
        "tariff — название тарифного плана\n",
        "\n",
        "**Таблица calls** (информация о звонках):\n",
        "\n",
        "id — уникальный номер звонка\n",
        "\n",
        "call_date — дата звонка\n",
        "\n",
        "duration — длительность звонка в минутах\n",
        "\n",
        "user_id — идентификатор пользователя, сделавшего звонок\n",
        "\n",
        "**Таблица messages** (информация о сообщениях):\n",
        "\n",
        "id — уникальный номер сообщения\n",
        "\n",
        "message_date — дата сообщения\n",
        "\n",
        "user_id — идентификатор пользователя, отправившего сообщение\n",
        "\n",
        "**Таблица internet** (информация об интернет-сессиях):\n",
        "\n",
        "id — уникальный номер сессии\n",
        "\n",
        "mb_used — объём потраченного за сессию интернет-трафика (в мегабайтах)\n",
        "\n",
        "session_date — дата интернет-сессии\n",
        "\n",
        "user_id — идентификатор пользователя\n",
        "\n",
        "**Таблица tariffs** (информация о тарифах):\n",
        "\n",
        "tariff_name — название тарифа\n",
        "\n",
        "rub_monthly_fee — ежемесячная абонентская плата в рублях\n",
        "\n",
        "minutes_included — количество минут разговора в месяц, включённых в абонентскую плату\n",
        "\n",
        "messages_included — количество сообщений в месяц, включённых в абонентскую плату\n",
        "mb_per_month_included — объём интернет-трафика, включённого в абонентскую плату (в мегабайтах)\n",
        "\n",
        "rub_per_minute — стоимость минуты разговора сверх тарифного пакета (например, если в тарифе 100 минут разговора в месяц, то со 101 минуты будет взиматься плата)\n",
        "\n",
        "rub_per_message — стоимость отправки сообщения сверх тарифного пакета\n",
        "\n",
        "rub_per_gb — стоимость дополнительного гигабайта интернет-трафика сверх \n",
        "тарифного пакета (1 гигабайт = 1024 мегабайта)"
      ]
    },
    {
      "cell_type": "markdown",
      "metadata": {
        "id": "cnY0LOM6oxa0"
      },
      "source": [
        " **1. Загрузка файла с данными и изучение общей информации**\n"
      ]
    },
    {
      "cell_type": "code",
      "metadata": {
        "id": "rnWGSgwiR_Hq",
        "trusted": true
      },
      "source": [
        "import pandas as pd\n",
        "import matplotlib.pyplot as plt\n",
        "import math\n",
        "import numpy as np\n",
        "from scipy import stats as st\n",
        "import copy"
      ],
      "execution_count": null,
      "outputs": []
    },
    {
      "cell_type": "code",
      "metadata": {
        "id": "ey6YsYn_NqUj",
        "trusted": true
      },
      "source": [
        "calls = pd.read_csv('.../datasets/calls.csv')\n",
        "internet = pd.read_csv('.../datasets/internet.csv')\n",
        "messages = pd.read_csv('.../datasets/messages.csv')\n",
        "tariffs = pd.read_csv('.../datasets/tariffs.csv')\n",
        "users = pd.read_csv('.../datasets/users.csv')\n",
        "\n"
      ],
      "execution_count": null,
      "outputs": []
    },
    {
      "cell_type": "markdown",
      "metadata": {
        "id": "-G62cJVPUA_X"
      },
      "source": [
        "**2. Подготовьте данные**\n",
        "\n",
        "Приведите данные к нужным типам;\n",
        "Найдите и исправьте ошибки в данных.\n",
        "Поясните, какие ошибки вы нашли и как их исправили. \n",
        "\n",
        "По порядку посмотрим на каждый датафрейм, внесем дополнения или изменения при необходимости."
      ]
    },
    {
      "cell_type": "code",
      "metadata": {
        "colab": {
          "base_uri": "https://localhost:8080/",
          "height": 419
        },
        "id": "gyywaQphSRfb",
        "trusted": true,
        "outputId": "d8a5c789-444c-48bc-9681-3ac6507ac0a0"
      },
      "source": [
        "calls\n"
      ],
      "execution_count": null,
      "outputs": [
        {
          "data": {
            "text/html": "<div>\n<style scoped>\n    .dataframe tbody tr th:only-of-type {\n        vertical-align: middle;\n    }\n\n    .dataframe tbody tr th {\n        vertical-align: top;\n    }\n\n    .dataframe thead th {\n        text-align: right;\n    }\n</style>\n<table border=\"1\" class=\"dataframe\">\n  <thead>\n    <tr style=\"text-align: right;\">\n      <th></th>\n      <th>id</th>\n      <th>call_date</th>\n      <th>duration</th>\n      <th>user_id</th>\n    </tr>\n  </thead>\n  <tbody>\n    <tr>\n      <td>0</td>\n      <td>1000_0</td>\n      <td>2018-07-25</td>\n      <td>0.00</td>\n      <td>1000</td>\n    </tr>\n    <tr>\n      <td>1</td>\n      <td>1000_1</td>\n      <td>2018-08-17</td>\n      <td>0.00</td>\n      <td>1000</td>\n    </tr>\n    <tr>\n      <td>2</td>\n      <td>1000_2</td>\n      <td>2018-06-11</td>\n      <td>2.85</td>\n      <td>1000</td>\n    </tr>\n    <tr>\n      <td>3</td>\n      <td>1000_3</td>\n      <td>2018-09-21</td>\n      <td>13.80</td>\n      <td>1000</td>\n    </tr>\n    <tr>\n      <td>4</td>\n      <td>1000_4</td>\n      <td>2018-12-15</td>\n      <td>5.18</td>\n      <td>1000</td>\n    </tr>\n    <tr>\n      <td>...</td>\n      <td>...</td>\n      <td>...</td>\n      <td>...</td>\n      <td>...</td>\n    </tr>\n    <tr>\n      <td>202602</td>\n      <td>1499_215</td>\n      <td>2018-12-26</td>\n      <td>0.76</td>\n      <td>1499</td>\n    </tr>\n    <tr>\n      <td>202603</td>\n      <td>1499_216</td>\n      <td>2018-10-18</td>\n      <td>18.83</td>\n      <td>1499</td>\n    </tr>\n    <tr>\n      <td>202604</td>\n      <td>1499_217</td>\n      <td>2018-11-10</td>\n      <td>10.81</td>\n      <td>1499</td>\n    </tr>\n    <tr>\n      <td>202605</td>\n      <td>1499_218</td>\n      <td>2018-10-06</td>\n      <td>4.27</td>\n      <td>1499</td>\n    </tr>\n    <tr>\n      <td>202606</td>\n      <td>1499_219</td>\n      <td>2018-12-14</td>\n      <td>19.62</td>\n      <td>1499</td>\n    </tr>\n  </tbody>\n</table>\n<p>202607 rows × 4 columns</p>\n</div>",
            "text/plain": "              id   call_date  duration  user_id\n0         1000_0  2018-07-25      0.00     1000\n1         1000_1  2018-08-17      0.00     1000\n2         1000_2  2018-06-11      2.85     1000\n3         1000_3  2018-09-21     13.80     1000\n4         1000_4  2018-12-15      5.18     1000\n...          ...         ...       ...      ...\n202602  1499_215  2018-12-26      0.76     1499\n202603  1499_216  2018-10-18     18.83     1499\n202604  1499_217  2018-11-10     10.81     1499\n202605  1499_218  2018-10-06      4.27     1499\n202606  1499_219  2018-12-14     19.62     1499\n\n[202607 rows x 4 columns]"
          },
          "execution_count": 201,
          "metadata": {},
          "output_type": "execute_result"
        }
      ]
    },
    {
      "cell_type": "code",
      "metadata": {
        "colab": {
          "base_uri": "https://localhost:8080/"
        },
        "id": "R_wvQzceU5sl",
        "trusted": true,
        "outputId": "0415f6ce-a26a-4a40-fe99-15a326702a96"
      },
      "source": [
        "calls.info()"
      ],
      "execution_count": null,
      "outputs": [
        {
          "name": "stdout",
          "output_type": "stream",
          "text": "<class 'pandas.core.frame.DataFrame'>\nRangeIndex: 202607 entries, 0 to 202606\nData columns (total 4 columns):\nid           202607 non-null object\ncall_date    202607 non-null object\nduration     202607 non-null float64\nuser_id      202607 non-null int64\ndtypes: float64(1), int64(1), object(2)\nmemory usage: 6.2+ MB\n"
        }
      ]
    },
    {
      "cell_type": "markdown",
      "metadata": {
        "id": "K1PAPMRd7G22"
      },
      "source": [
        "Приведем данные в столбце call_date к типу datetime64 и округлим значения  в duration, так как  «Мегалайн» всегда округляет вверх значения минут и мегабайтов.  "
      ]
    },
    {
      "cell_type": "code",
      "metadata": {
        "id": "ys3OEN8a6wiE",
        "trusted": true
      },
      "source": [
        "calls['call_date'] = pd.to_datetime(calls['call_date'], format=\"%Y-%m-%d\")"
      ],
      "execution_count": null,
      "outputs": []
    },
    {
      "cell_type": "code",
      "metadata": {
        "id": "qNDRf54a8KgX",
        "trusted": true
      },
      "source": [
        "calls['duration'] = calls['duration'].apply(np.ceil)"
      ],
      "execution_count": null,
      "outputs": []
    },
    {
      "cell_type": "markdown",
      "metadata": {
        "id": "erHv8XDt9tUG"
      },
      "source": [
        "Приведем а порядок столбец id, сделаем его целочисленным."
      ]
    },
    {
      "cell_type": "code",
      "metadata": {
        "id": "Bkh5IeXc66Mb",
        "trusted": true
      },
      "source": [
        "calls['id'] = calls['id'].astype('int')"
      ],
      "execution_count": null,
      "outputs": []
    },
    {
      "cell_type": "markdown",
      "metadata": {
        "id": "j8qLQvK8rFkq"
      },
      "source": [
        "Так как в дальнейшем анализе нам потребуется работать с данными по месяцам, добавим соответствующий столбец:"
      ]
    },
    {
      "cell_type": "code",
      "metadata": {
        "id": "cMVMyBOqrF-_",
        "trusted": true
      },
      "source": [
        "calls['month'] = pd.DatetimeIndex(calls['call_date']).month"
      ],
      "execution_count": null,
      "outputs": []
    },
    {
      "cell_type": "markdown",
      "metadata": {
        "id": "wsaN8v-yJCQT"
      },
      "source": [
        "Посмотрим, сколько звонков длительностью 0 сек. было севершено."
      ]
    },
    {
      "cell_type": "code",
      "metadata": {
        "colab": {
          "base_uri": "https://localhost:8080/"
        },
        "id": "zxT4sdhkJCqb",
        "trusted": true,
        "outputId": "dab51bc9-5c1f-4583-cfec-ac1d6c2c9520"
      },
      "source": [
        "\n",
        "calls[calls['duration'] == 0]['duration'].count()"
      ],
      "execution_count": null,
      "outputs": [
        {
          "data": {
            "text/plain": "39613"
          },
          "execution_count": 207,
          "metadata": {},
          "output_type": "execute_result"
        }
      ]
    },
    {
      "cell_type": "markdown",
      "metadata": {
        "id": "YXdmFiyaJXdx"
      },
      "source": [
        "Так как мы знаем, что время всех состоявшихся звонков оператор округляет до верхнего значения, например, 3 секунды до 1 минуты, мы можем сделать вывод, что в нашем ДФ мы имеем 39613 несостоявшихся звонков."
      ]
    },
    {
      "cell_type": "code",
      "metadata": {
        "colab": {
          "base_uri": "https://localhost:8080/",
          "height": 419
        },
        "id": "3Hrkp9FOUtlX",
        "trusted": true,
        "outputId": "0e9a080a-1f03-44a2-87c4-c2252659f4d6"
      },
      "source": [
        "internet\n"
      ],
      "execution_count": null,
      "outputs": [
        {
          "data": {
            "text/html": "<div>\n<style scoped>\n    .dataframe tbody tr th:only-of-type {\n        vertical-align: middle;\n    }\n\n    .dataframe tbody tr th {\n        vertical-align: top;\n    }\n\n    .dataframe thead th {\n        text-align: right;\n    }\n</style>\n<table border=\"1\" class=\"dataframe\">\n  <thead>\n    <tr style=\"text-align: right;\">\n      <th></th>\n      <th>Unnamed: 0</th>\n      <th>id</th>\n      <th>mb_used</th>\n      <th>session_date</th>\n      <th>user_id</th>\n    </tr>\n  </thead>\n  <tbody>\n    <tr>\n      <td>0</td>\n      <td>0</td>\n      <td>1000_0</td>\n      <td>112.95</td>\n      <td>2018-11-25</td>\n      <td>1000</td>\n    </tr>\n    <tr>\n      <td>1</td>\n      <td>1</td>\n      <td>1000_1</td>\n      <td>1052.81</td>\n      <td>2018-09-07</td>\n      <td>1000</td>\n    </tr>\n    <tr>\n      <td>2</td>\n      <td>2</td>\n      <td>1000_2</td>\n      <td>1197.26</td>\n      <td>2018-06-25</td>\n      <td>1000</td>\n    </tr>\n    <tr>\n      <td>3</td>\n      <td>3</td>\n      <td>1000_3</td>\n      <td>550.27</td>\n      <td>2018-08-22</td>\n      <td>1000</td>\n    </tr>\n    <tr>\n      <td>4</td>\n      <td>4</td>\n      <td>1000_4</td>\n      <td>302.56</td>\n      <td>2018-09-24</td>\n      <td>1000</td>\n    </tr>\n    <tr>\n      <td>...</td>\n      <td>...</td>\n      <td>...</td>\n      <td>...</td>\n      <td>...</td>\n      <td>...</td>\n    </tr>\n    <tr>\n      <td>149391</td>\n      <td>149391</td>\n      <td>1499_152</td>\n      <td>318.90</td>\n      <td>2018-10-03</td>\n      <td>1499</td>\n    </tr>\n    <tr>\n      <td>149392</td>\n      <td>149392</td>\n      <td>1499_153</td>\n      <td>490.13</td>\n      <td>2018-12-14</td>\n      <td>1499</td>\n    </tr>\n    <tr>\n      <td>149393</td>\n      <td>149393</td>\n      <td>1499_154</td>\n      <td>0.00</td>\n      <td>2018-10-27</td>\n      <td>1499</td>\n    </tr>\n    <tr>\n      <td>149394</td>\n      <td>149394</td>\n      <td>1499_155</td>\n      <td>1246.32</td>\n      <td>2018-11-26</td>\n      <td>1499</td>\n    </tr>\n    <tr>\n      <td>149395</td>\n      <td>149395</td>\n      <td>1499_156</td>\n      <td>544.37</td>\n      <td>2018-10-26</td>\n      <td>1499</td>\n    </tr>\n  </tbody>\n</table>\n<p>149396 rows × 5 columns</p>\n</div>",
            "text/plain": "        Unnamed: 0        id  mb_used session_date  user_id\n0                0    1000_0   112.95   2018-11-25     1000\n1                1    1000_1  1052.81   2018-09-07     1000\n2                2    1000_2  1197.26   2018-06-25     1000\n3                3    1000_3   550.27   2018-08-22     1000\n4                4    1000_4   302.56   2018-09-24     1000\n...            ...       ...      ...          ...      ...\n149391      149391  1499_152   318.90   2018-10-03     1499\n149392      149392  1499_153   490.13   2018-12-14     1499\n149393      149393  1499_154     0.00   2018-10-27     1499\n149394      149394  1499_155  1246.32   2018-11-26     1499\n149395      149395  1499_156   544.37   2018-10-26     1499\n\n[149396 rows x 5 columns]"
          },
          "execution_count": 208,
          "metadata": {},
          "output_type": "execute_result"
        }
      ]
    },
    {
      "cell_type": "markdown",
      "metadata": {
        "id": "TcfCrWYd_-ee"
      },
      "source": [
        "В датафрейме internet видим похожую ситуацию, поэтому приведем значения столбца id к целочисленному виду, а session_date - к фомату datetime, добавим столбец с месяцем? округлим к большему количество использованных мегабайт.\n"
      ]
    },
    {
      "cell_type": "code",
      "metadata": {
        "id": "DXgK_-aJUxWx",
        "trusted": true
      },
      "source": [
        "internet['id'] = internet['id'].astype('int')"
      ],
      "execution_count": null,
      "outputs": []
    },
    {
      "cell_type": "code",
      "metadata": {
        "id": "3TM-wzprGbp5",
        "trusted": true
      },
      "source": [
        "internet['session_date'] = pd.to_datetime(internet['session_date'], format=\"%Y-%m-%d\")"
      ],
      "execution_count": null,
      "outputs": []
    },
    {
      "cell_type": "code",
      "metadata": {
        "id": "Wo6yq_W9r1BF",
        "trusted": true
      },
      "source": [
        "internet['month'] = pd.DatetimeIndex(internet['session_date']).month"
      ],
      "execution_count": null,
      "outputs": []
    },
    {
      "cell_type": "code",
      "metadata": {
        "id": "wMvNLbcGn6KQ",
        "trusted": true
      },
      "source": [
        "internet['mb_used'] = internet['mb_used'].apply(np.ceil)"
      ],
      "execution_count": null,
      "outputs": []
    },
    {
      "cell_type": "code",
      "metadata": {
        "colab": {
          "base_uri": "https://localhost:8080/"
        },
        "id": "f8m34RQhGnga",
        "trusted": true,
        "outputId": "411fdc93-f3ec-4516-b730-2bf23b1ff0c7"
      },
      "source": [
        "internet[internet['mb_used'] == 0]['mb_used'].count()"
      ],
      "execution_count": null,
      "outputs": [
        {
          "data": {
            "text/plain": "19598"
          },
          "execution_count": 213,
          "metadata": {},
          "output_type": "execute_result"
        }
      ]
    },
    {
      "cell_type": "markdown",
      "metadata": {
        "id": "o2u-tunWVqXy"
      },
      "source": [
        "Столько неиспользованного интернет-трафика (нули), по нашему предположению, говорит о том, что юзер не выходил в интернет в рассматриваемый отрезок времени или не имел интернет-соединения. "
      ]
    },
    {
      "cell_type": "code",
      "metadata": {
        "colab": {
          "base_uri": "https://localhost:8080/",
          "height": 419
        },
        "id": "u1uWd4YRVBxR",
        "trusted": true,
        "outputId": "3a6a9f67-7c28-4a12-9bc3-8fa66d0824c1"
      },
      "source": [
        "messages"
      ],
      "execution_count": null,
      "outputs": [
        {
          "data": {
            "text/html": "<div>\n<style scoped>\n    .dataframe tbody tr th:only-of-type {\n        vertical-align: middle;\n    }\n\n    .dataframe tbody tr th {\n        vertical-align: top;\n    }\n\n    .dataframe thead th {\n        text-align: right;\n    }\n</style>\n<table border=\"1\" class=\"dataframe\">\n  <thead>\n    <tr style=\"text-align: right;\">\n      <th></th>\n      <th>id</th>\n      <th>message_date</th>\n      <th>user_id</th>\n    </tr>\n  </thead>\n  <tbody>\n    <tr>\n      <td>0</td>\n      <td>1000_0</td>\n      <td>2018-06-27</td>\n      <td>1000</td>\n    </tr>\n    <tr>\n      <td>1</td>\n      <td>1000_1</td>\n      <td>2018-10-08</td>\n      <td>1000</td>\n    </tr>\n    <tr>\n      <td>2</td>\n      <td>1000_2</td>\n      <td>2018-08-04</td>\n      <td>1000</td>\n    </tr>\n    <tr>\n      <td>3</td>\n      <td>1000_3</td>\n      <td>2018-06-16</td>\n      <td>1000</td>\n    </tr>\n    <tr>\n      <td>4</td>\n      <td>1000_4</td>\n      <td>2018-12-05</td>\n      <td>1000</td>\n    </tr>\n    <tr>\n      <td>...</td>\n      <td>...</td>\n      <td>...</td>\n      <td>...</td>\n    </tr>\n    <tr>\n      <td>123031</td>\n      <td>1499_179</td>\n      <td>2018-12-12</td>\n      <td>1499</td>\n    </tr>\n    <tr>\n      <td>123032</td>\n      <td>1499_180</td>\n      <td>2018-09-28</td>\n      <td>1499</td>\n    </tr>\n    <tr>\n      <td>123033</td>\n      <td>1499_181</td>\n      <td>2018-09-27</td>\n      <td>1499</td>\n    </tr>\n    <tr>\n      <td>123034</td>\n      <td>1499_182</td>\n      <td>2018-11-15</td>\n      <td>1499</td>\n    </tr>\n    <tr>\n      <td>123035</td>\n      <td>1499_183</td>\n      <td>2018-11-16</td>\n      <td>1499</td>\n    </tr>\n  </tbody>\n</table>\n<p>123036 rows × 3 columns</p>\n</div>",
            "text/plain": "              id message_date  user_id\n0         1000_0   2018-06-27     1000\n1         1000_1   2018-10-08     1000\n2         1000_2   2018-08-04     1000\n3         1000_3   2018-06-16     1000\n4         1000_4   2018-12-05     1000\n...          ...          ...      ...\n123031  1499_179   2018-12-12     1499\n123032  1499_180   2018-09-28     1499\n123033  1499_181   2018-09-27     1499\n123034  1499_182   2018-11-15     1499\n123035  1499_183   2018-11-16     1499\n\n[123036 rows x 3 columns]"
          },
          "execution_count": 214,
          "metadata": {},
          "output_type": "execute_result"
        }
      ]
    },
    {
      "cell_type": "markdown",
      "metadata": {
        "id": "ZlLQ_Gu1uFlj"
      },
      "source": [
        "Приведем значения столбца id к целочисленному виду, а message_date - к фомату datetime, добавим столбец с месяцем."
      ]
    },
    {
      "cell_type": "code",
      "metadata": {
        "id": "7PnGkY7jVEXZ",
        "trusted": true
      },
      "source": [
        "messages['id'] = messages['id'].astype('int')"
      ],
      "execution_count": null,
      "outputs": []
    },
    {
      "cell_type": "code",
      "metadata": {
        "id": "ZEzYVA_mtpvU",
        "trusted": true
      },
      "source": [
        "messages['message_date'] = pd.to_datetime(messages['message_date'], format=\"%Y-%m-%d\")"
      ],
      "execution_count": null,
      "outputs": []
    },
    {
      "cell_type": "code",
      "metadata": {
        "id": "qsl94L4Yt8kK",
        "trusted": true
      },
      "source": [
        "messages['month'] = pd.DatetimeIndex(messages['message_date']).month"
      ],
      "execution_count": null,
      "outputs": []
    },
    {
      "cell_type": "code",
      "metadata": {
        "colab": {
          "base_uri": "https://localhost:8080/",
          "height": 111
        },
        "id": "HfDk1Htgt9QP",
        "trusted": true,
        "outputId": "e1584bb2-96e3-4649-ed7f-5029bdccb3fe"
      },
      "source": [
        "tariffs"
      ],
      "execution_count": null,
      "outputs": [
        {
          "data": {
            "text/html": "<div>\n<style scoped>\n    .dataframe tbody tr th:only-of-type {\n        vertical-align: middle;\n    }\n\n    .dataframe tbody tr th {\n        vertical-align: top;\n    }\n\n    .dataframe thead th {\n        text-align: right;\n    }\n</style>\n<table border=\"1\" class=\"dataframe\">\n  <thead>\n    <tr style=\"text-align: right;\">\n      <th></th>\n      <th>messages_included</th>\n      <th>mb_per_month_included</th>\n      <th>minutes_included</th>\n      <th>rub_monthly_fee</th>\n      <th>rub_per_gb</th>\n      <th>rub_per_message</th>\n      <th>rub_per_minute</th>\n      <th>tariff_name</th>\n    </tr>\n  </thead>\n  <tbody>\n    <tr>\n      <td>0</td>\n      <td>50</td>\n      <td>15360</td>\n      <td>500</td>\n      <td>550</td>\n      <td>200</td>\n      <td>3</td>\n      <td>3</td>\n      <td>smart</td>\n    </tr>\n    <tr>\n      <td>1</td>\n      <td>1000</td>\n      <td>30720</td>\n      <td>3000</td>\n      <td>1950</td>\n      <td>150</td>\n      <td>1</td>\n      <td>1</td>\n      <td>ultra</td>\n    </tr>\n  </tbody>\n</table>\n</div>",
            "text/plain": "   messages_included  mb_per_month_included  minutes_included  \\\n0                 50                  15360               500   \n1               1000                  30720              3000   \n\n   rub_monthly_fee  rub_per_gb  rub_per_message  rub_per_minute tariff_name  \n0              550         200                3               3       smart  \n1             1950         150                1               1       ultra  "
          },
          "execution_count": 218,
          "metadata": {},
          "output_type": "execute_result"
        }
      ]
    },
    {
      "cell_type": "markdown",
      "metadata": {
        "id": "qF3I-J_VuiES"
      },
      "source": [
        "В датафрейме tariffs всё хорошо. "
      ]
    },
    {
      "cell_type": "code",
      "metadata": {
        "id": "YEhOgaUVfapL",
        "trusted": true
      },
      "source": [
        "tariffs = tariffs.rename(columns={'tariff_name':'tariff'})"
      ],
      "execution_count": null,
      "outputs": []
    },
    {
      "cell_type": "code",
      "metadata": {
        "colab": {
          "base_uri": "https://localhost:8080/",
          "height": 419
        },
        "id": "Keg-zWD7t_ov",
        "trusted": true,
        "outputId": "03171e65-cc5a-4981-fa7b-7c26367b807a"
      },
      "source": [
        "users\n"
      ],
      "execution_count": null,
      "outputs": [
        {
          "data": {
            "text/html": "<div>\n<style scoped>\n    .dataframe tbody tr th:only-of-type {\n        vertical-align: middle;\n    }\n\n    .dataframe tbody tr th {\n        vertical-align: top;\n    }\n\n    .dataframe thead th {\n        text-align: right;\n    }\n</style>\n<table border=\"1\" class=\"dataframe\">\n  <thead>\n    <tr style=\"text-align: right;\">\n      <th></th>\n      <th>user_id</th>\n      <th>age</th>\n      <th>churn_date</th>\n      <th>city</th>\n      <th>first_name</th>\n      <th>last_name</th>\n      <th>reg_date</th>\n      <th>tariff</th>\n    </tr>\n  </thead>\n  <tbody>\n    <tr>\n      <td>0</td>\n      <td>1000</td>\n      <td>52</td>\n      <td>NaN</td>\n      <td>Краснодар</td>\n      <td>Рафаил</td>\n      <td>Верещагин</td>\n      <td>2018-05-25</td>\n      <td>ultra</td>\n    </tr>\n    <tr>\n      <td>1</td>\n      <td>1001</td>\n      <td>41</td>\n      <td>NaN</td>\n      <td>Москва</td>\n      <td>Иван</td>\n      <td>Ежов</td>\n      <td>2018-11-01</td>\n      <td>smart</td>\n    </tr>\n    <tr>\n      <td>2</td>\n      <td>1002</td>\n      <td>59</td>\n      <td>NaN</td>\n      <td>Стерлитамак</td>\n      <td>Евгений</td>\n      <td>Абрамович</td>\n      <td>2018-06-17</td>\n      <td>smart</td>\n    </tr>\n    <tr>\n      <td>3</td>\n      <td>1003</td>\n      <td>23</td>\n      <td>NaN</td>\n      <td>Москва</td>\n      <td>Белла</td>\n      <td>Белякова</td>\n      <td>2018-08-17</td>\n      <td>ultra</td>\n    </tr>\n    <tr>\n      <td>4</td>\n      <td>1004</td>\n      <td>68</td>\n      <td>NaN</td>\n      <td>Новокузнецк</td>\n      <td>Татьяна</td>\n      <td>Авдеенко</td>\n      <td>2018-05-14</td>\n      <td>ultra</td>\n    </tr>\n    <tr>\n      <td>...</td>\n      <td>...</td>\n      <td>...</td>\n      <td>...</td>\n      <td>...</td>\n      <td>...</td>\n      <td>...</td>\n      <td>...</td>\n      <td>...</td>\n    </tr>\n    <tr>\n      <td>495</td>\n      <td>1495</td>\n      <td>65</td>\n      <td>NaN</td>\n      <td>Иркутск</td>\n      <td>Авксентий</td>\n      <td>Фокин</td>\n      <td>2018-08-28</td>\n      <td>ultra</td>\n    </tr>\n    <tr>\n      <td>496</td>\n      <td>1496</td>\n      <td>36</td>\n      <td>NaN</td>\n      <td>Вологда</td>\n      <td>Трифон</td>\n      <td>Блохин</td>\n      <td>2018-01-27</td>\n      <td>smart</td>\n    </tr>\n    <tr>\n      <td>497</td>\n      <td>1497</td>\n      <td>32</td>\n      <td>NaN</td>\n      <td>Челябинск</td>\n      <td>Каролина</td>\n      <td>Агеева</td>\n      <td>2018-10-09</td>\n      <td>smart</td>\n    </tr>\n    <tr>\n      <td>498</td>\n      <td>1498</td>\n      <td>68</td>\n      <td>2018-10-25</td>\n      <td>Владикавказ</td>\n      <td>Всеволод</td>\n      <td>Акимчин</td>\n      <td>2018-07-19</td>\n      <td>smart</td>\n    </tr>\n    <tr>\n      <td>499</td>\n      <td>1499</td>\n      <td>35</td>\n      <td>NaN</td>\n      <td>Пермь</td>\n      <td>Гектор</td>\n      <td>Корнилов</td>\n      <td>2018-09-27</td>\n      <td>smart</td>\n    </tr>\n  </tbody>\n</table>\n<p>500 rows × 8 columns</p>\n</div>",
            "text/plain": "     user_id  age  churn_date         city first_name  last_name    reg_date  \\\n0       1000   52         NaN    Краснодар     Рафаил  Верещагин  2018-05-25   \n1       1001   41         NaN       Москва       Иван       Ежов  2018-11-01   \n2       1002   59         NaN  Стерлитамак    Евгений  Абрамович  2018-06-17   \n3       1003   23         NaN       Москва      Белла   Белякова  2018-08-17   \n4       1004   68         NaN  Новокузнецк    Татьяна   Авдеенко  2018-05-14   \n..       ...  ...         ...          ...        ...        ...         ...   \n495     1495   65         NaN      Иркутск  Авксентий      Фокин  2018-08-28   \n496     1496   36         NaN      Вологда     Трифон     Блохин  2018-01-27   \n497     1497   32         NaN    Челябинск   Каролина     Агеева  2018-10-09   \n498     1498   68  2018-10-25  Владикавказ   Всеволод    Акимчин  2018-07-19   \n499     1499   35         NaN        Пермь     Гектор   Корнилов  2018-09-27   \n\n    tariff  \n0    ultra  \n1    smart  \n2    smart  \n3    ultra  \n4    ultra  \n..     ...  \n495  ultra  \n496  smart  \n497  smart  \n498  smart  \n499  smart  \n\n[500 rows x 8 columns]"
          },
          "execution_count": 220,
          "metadata": {},
          "output_type": "execute_result"
        }
      ]
    },
    {
      "cell_type": "code",
      "metadata": {
        "id": "2QGOn4itwKwc",
        "trusted": true
      },
      "source": [
        "users['reg_date'] = pd.to_datetime(users['reg_date'], format='%Y-%m-%d')\n",
        "users['churn_date'] = pd.to_datetime(users['churn_date'], format='%Y-%m-%d')"
      ],
      "execution_count": null,
      "outputs": []
    },
    {
      "cell_type": "code",
      "metadata": {
        "colab": {
          "base_uri": "https://localhost:8080/"
        },
        "id": "b1jcKSMVzUID",
        "trusted": true,
        "outputId": "6c192a86-ce55-4d45-bac2-81288c7a1c8c"
      },
      "source": [
        "users['churn_date'].isna().sum()"
      ],
      "execution_count": null,
      "outputs": [
        {
          "data": {
            "text/plain": "462"
          },
          "execution_count": 222,
          "metadata": {},
          "output_type": "execute_result"
        }
      ]
    },
    {
      "cell_type": "markdown",
      "metadata": {
        "id": "Q8VIhOvF-48-"
      },
      "source": [
        "Почти весь столбец churn_date состоит из пропущенных значений. churn_date — дата прекращения пользования тарифом, пропуски означают, что тариф ещё действовал на момент выгрузки данных."
      ]
    },
    {
      "cell_type": "code",
      "metadata": {
        "colab": {
          "base_uri": "https://localhost:8080/",
          "height": 297
        },
        "id": "5017gC_e20gu",
        "trusted": true,
        "outputId": "a0f3ffe5-55db-4dcd-dff0-1df93c5cf4b8"
      },
      "source": [
        "users.describe()"
      ],
      "execution_count": null,
      "outputs": [
        {
          "data": {
            "text/html": "<div>\n<style scoped>\n    .dataframe tbody tr th:only-of-type {\n        vertical-align: middle;\n    }\n\n    .dataframe tbody tr th {\n        vertical-align: top;\n    }\n\n    .dataframe thead th {\n        text-align: right;\n    }\n</style>\n<table border=\"1\" class=\"dataframe\">\n  <thead>\n    <tr style=\"text-align: right;\">\n      <th></th>\n      <th>user_id</th>\n      <th>age</th>\n    </tr>\n  </thead>\n  <tbody>\n    <tr>\n      <td>count</td>\n      <td>500.000000</td>\n      <td>500.00000</td>\n    </tr>\n    <tr>\n      <td>mean</td>\n      <td>1249.500000</td>\n      <td>46.58800</td>\n    </tr>\n    <tr>\n      <td>std</td>\n      <td>144.481833</td>\n      <td>16.66763</td>\n    </tr>\n    <tr>\n      <td>min</td>\n      <td>1000.000000</td>\n      <td>18.00000</td>\n    </tr>\n    <tr>\n      <td>25%</td>\n      <td>1124.750000</td>\n      <td>32.00000</td>\n    </tr>\n    <tr>\n      <td>50%</td>\n      <td>1249.500000</td>\n      <td>46.00000</td>\n    </tr>\n    <tr>\n      <td>75%</td>\n      <td>1374.250000</td>\n      <td>62.00000</td>\n    </tr>\n    <tr>\n      <td>max</td>\n      <td>1499.000000</td>\n      <td>75.00000</td>\n    </tr>\n  </tbody>\n</table>\n</div>",
            "text/plain": "           user_id        age\ncount   500.000000  500.00000\nmean   1249.500000   46.58800\nstd     144.481833   16.66763\nmin    1000.000000   18.00000\n25%    1124.750000   32.00000\n50%    1249.500000   46.00000\n75%    1374.250000   62.00000\nmax    1499.000000   75.00000"
          },
          "execution_count": 223,
          "metadata": {},
          "output_type": "execute_result"
        }
      ]
    },
    {
      "cell_type": "markdown",
      "metadata": {
        "id": "ZIu2gBVBX5X6"
      },
      "source": [
        "**Посчитайте для каждого пользователя:**\n",
        "количество сделанных звонков и израсходованных минут разговора по месяцам"
      ]
    },
    {
      "cell_type": "code",
      "metadata": {
        "colab": {
          "base_uri": "https://localhost:8080/",
          "height": 419
        },
        "id": "6It2jF5vSl17",
        "trusted": true,
        "outputId": "360846d1-15f6-49f6-d533-ca6960691eeb"
      },
      "source": [
        "calls_by_month = calls.groupby(['user_id', 'month']).agg({'duration':'sum', 'id':'count'}).reset_index().rename(columns={'duration':'calls_by_month_duration','id':'calls_by_month_total'})\n",
        "calls_by_month \n"
      ],
      "execution_count": null,
      "outputs": [
        {
          "data": {
            "text/html": "<div>\n<style scoped>\n    .dataframe tbody tr th:only-of-type {\n        vertical-align: middle;\n    }\n\n    .dataframe tbody tr th {\n        vertical-align: top;\n    }\n\n    .dataframe thead th {\n        text-align: right;\n    }\n</style>\n<table border=\"1\" class=\"dataframe\">\n  <thead>\n    <tr style=\"text-align: right;\">\n      <th></th>\n      <th>user_id</th>\n      <th>month</th>\n      <th>calls_by_month_duration</th>\n      <th>calls_by_month_total</th>\n    </tr>\n  </thead>\n  <tbody>\n    <tr>\n      <td>0</td>\n      <td>1000</td>\n      <td>5</td>\n      <td>159.0</td>\n      <td>22</td>\n    </tr>\n    <tr>\n      <td>1</td>\n      <td>1000</td>\n      <td>6</td>\n      <td>172.0</td>\n      <td>43</td>\n    </tr>\n    <tr>\n      <td>2</td>\n      <td>1000</td>\n      <td>7</td>\n      <td>340.0</td>\n      <td>47</td>\n    </tr>\n    <tr>\n      <td>3</td>\n      <td>1000</td>\n      <td>8</td>\n      <td>408.0</td>\n      <td>52</td>\n    </tr>\n    <tr>\n      <td>4</td>\n      <td>1000</td>\n      <td>9</td>\n      <td>466.0</td>\n      <td>58</td>\n    </tr>\n    <tr>\n      <td>...</td>\n      <td>...</td>\n      <td>...</td>\n      <td>...</td>\n      <td>...</td>\n    </tr>\n    <tr>\n      <td>3169</td>\n      <td>1498</td>\n      <td>10</td>\n      <td>247.0</td>\n      <td>41</td>\n    </tr>\n    <tr>\n      <td>3170</td>\n      <td>1499</td>\n      <td>9</td>\n      <td>70.0</td>\n      <td>9</td>\n    </tr>\n    <tr>\n      <td>3171</td>\n      <td>1499</td>\n      <td>10</td>\n      <td>449.0</td>\n      <td>68</td>\n    </tr>\n    <tr>\n      <td>3172</td>\n      <td>1499</td>\n      <td>11</td>\n      <td>612.0</td>\n      <td>74</td>\n    </tr>\n    <tr>\n      <td>3173</td>\n      <td>1499</td>\n      <td>12</td>\n      <td>492.0</td>\n      <td>69</td>\n    </tr>\n  </tbody>\n</table>\n<p>3174 rows × 4 columns</p>\n</div>",
            "text/plain": "      user_id  month  calls_by_month_duration  calls_by_month_total\n0        1000      5                    159.0                    22\n1        1000      6                    172.0                    43\n2        1000      7                    340.0                    47\n3        1000      8                    408.0                    52\n4        1000      9                    466.0                    58\n...       ...    ...                      ...                   ...\n3169     1498     10                    247.0                    41\n3170     1499      9                     70.0                     9\n3171     1499     10                    449.0                    68\n3172     1499     11                    612.0                    74\n3173     1499     12                    492.0                    69\n\n[3174 rows x 4 columns]"
          },
          "execution_count": 224,
          "metadata": {},
          "output_type": "execute_result"
        }
      ]
    },
    {
      "cell_type": "markdown",
      "metadata": {
        "id": "PeVEP6pItUko"
      },
      "source": [
        "Мы получили месячный отчет по звонкам для всей таблицы и по каждому пользователю. Эти данные нам потребуются в дальнейшем. Но сгруппируем эту таблицу так, чтобы видеть распределение всех звонков по каждому месяцу в году. Выведем звонки более наглядно:"
      ]
    },
    {
      "cell_type": "code",
      "metadata": {
        "colab": {
          "base_uri": "https://localhost:8080/",
          "height": 452
        },
        "id": "sJ3SF-b6rnu7",
        "trusted": true,
        "outputId": "f6c8e04b-f059-4495-daf6-c44d30c3f84a"
      },
      "source": [
        "calls_grouped = calls.groupby('month').agg({'duration':'sum', 'id':'count'})\n",
        "calls_grouped"
      ],
      "execution_count": null,
      "outputs": [
        {
          "data": {
            "text/html": "<div>\n<style scoped>\n    .dataframe tbody tr th:only-of-type {\n        vertical-align: middle;\n    }\n\n    .dataframe tbody tr th {\n        vertical-align: top;\n    }\n\n    .dataframe thead th {\n        text-align: right;\n    }\n</style>\n<table border=\"1\" class=\"dataframe\">\n  <thead>\n    <tr style=\"text-align: right;\">\n      <th></th>\n      <th>duration</th>\n      <th>id</th>\n    </tr>\n    <tr>\n      <th>month</th>\n      <th></th>\n      <th></th>\n    </tr>\n  </thead>\n  <tbody>\n    <tr>\n      <td>1</td>\n      <td>10784.0</td>\n      <td>1476</td>\n    </tr>\n    <tr>\n      <td>2</td>\n      <td>24455.0</td>\n      <td>3328</td>\n    </tr>\n    <tr>\n      <td>3</td>\n      <td>48151.0</td>\n      <td>6687</td>\n    </tr>\n    <tr>\n      <td>4</td>\n      <td>66310.0</td>\n      <td>9272</td>\n    </tr>\n    <tr>\n      <td>5</td>\n      <td>88810.0</td>\n      <td>12647</td>\n    </tr>\n    <tr>\n      <td>6</td>\n      <td>105180.0</td>\n      <td>14716</td>\n    </tr>\n    <tr>\n      <td>7</td>\n      <td>131746.0</td>\n      <td>18298</td>\n    </tr>\n    <tr>\n      <td>8</td>\n      <td>153698.0</td>\n      <td>21488</td>\n    </tr>\n    <tr>\n      <td>9</td>\n      <td>173475.0</td>\n      <td>24061</td>\n    </tr>\n    <tr>\n      <td>10</td>\n      <td>193928.0</td>\n      <td>27146</td>\n    </tr>\n    <tr>\n      <td>11</td>\n      <td>210089.0</td>\n      <td>29501</td>\n    </tr>\n    <tr>\n      <td>12</td>\n      <td>243675.0</td>\n      <td>33987</td>\n    </tr>\n  </tbody>\n</table>\n</div>",
            "text/plain": "       duration     id\nmonth                 \n1       10784.0   1476\n2       24455.0   3328\n3       48151.0   6687\n4       66310.0   9272\n5       88810.0  12647\n6      105180.0  14716\n7      131746.0  18298\n8      153698.0  21488\n9      173475.0  24061\n10     193928.0  27146\n11     210089.0  29501\n12     243675.0  33987"
          },
          "execution_count": 225,
          "metadata": {},
          "output_type": "execute_result"
        }
      ]
    },
    {
      "cell_type": "code",
      "metadata": {
        "colab": {
          "base_uri": "https://localhost:8080/",
          "height": 295
        },
        "id": "o7KpuAJEtLGK",
        "trusted": true,
        "outputId": "e52aac34-5dc0-4341-ee8c-1f1a31498558"
      },
      "source": [
        "calls_grouped.plot()\n",
        "plt.title('Количество и длительность звонков по месяцам')\n",
        "plt.show()"
      ],
      "execution_count": null,
      "outputs": [
        {
          "data": {
            "image/png": "[encoded data removed]",
            "text/plain": "<Figure size 432x288 with 1 Axes>"
          },
          "metadata": {
            "needs_background": "light"
          },
          "output_type": "display_data"
        }
      ]
    },
    {
      "cell_type": "markdown",
      "metadata": {
        "id": "skraG6ZBvVKE"
      },
      "source": [
        "Количество и длительность звонков линейно увеличиваются от месяца к месяцу, и, соответственно, показывают минимум в январе (1476 совершенных звонков), а максимум в декабре(33987)."
      ]
    },
    {
      "cell_type": "markdown",
      "metadata": {
        "id": "NjLmgMHf8Ax1"
      },
      "source": [
        "Количество отправленных сообщений по месяцам, сначала для каждого пользлвателя, затем общая картина:"
      ]
    },
    {
      "cell_type": "code",
      "metadata": {
        "colab": {
          "base_uri": "https://localhost:8080/",
          "height": 419
        },
        "id": "GjgBsEfwYKTw",
        "trusted": true,
        "outputId": "1b52da1c-0a40-48f4-fca9-3e0f37433cd1"
      },
      "source": [
        "messages_by_month = messages.groupby(['user_id', 'month']).agg({'id':'count'}).reset_index().rename(columns={'id':'messages_by_month_total'})\n",
        "messages_by_month                       \n",
        "                        "
      ],
      "execution_count": null,
      "outputs": [
        {
          "data": {
            "text/html": "<div>\n<style scoped>\n    .dataframe tbody tr th:only-of-type {\n        vertical-align: middle;\n    }\n\n    .dataframe tbody tr th {\n        vertical-align: top;\n    }\n\n    .dataframe thead th {\n        text-align: right;\n    }\n</style>\n<table border=\"1\" class=\"dataframe\">\n  <thead>\n    <tr style=\"text-align: right;\">\n      <th></th>\n      <th>user_id</th>\n      <th>month</th>\n      <th>messages_by_month_total</th>\n    </tr>\n  </thead>\n  <tbody>\n    <tr>\n      <td>0</td>\n      <td>1000</td>\n      <td>5</td>\n      <td>22</td>\n    </tr>\n    <tr>\n      <td>1</td>\n      <td>1000</td>\n      <td>6</td>\n      <td>60</td>\n    </tr>\n    <tr>\n      <td>2</td>\n      <td>1000</td>\n      <td>7</td>\n      <td>75</td>\n    </tr>\n    <tr>\n      <td>3</td>\n      <td>1000</td>\n      <td>8</td>\n      <td>81</td>\n    </tr>\n    <tr>\n      <td>4</td>\n      <td>1000</td>\n      <td>9</td>\n      <td>57</td>\n    </tr>\n    <tr>\n      <td>...</td>\n      <td>...</td>\n      <td>...</td>\n      <td>...</td>\n    </tr>\n    <tr>\n      <td>2712</td>\n      <td>1498</td>\n      <td>10</td>\n      <td>42</td>\n    </tr>\n    <tr>\n      <td>2713</td>\n      <td>1499</td>\n      <td>9</td>\n      <td>11</td>\n    </tr>\n    <tr>\n      <td>2714</td>\n      <td>1499</td>\n      <td>10</td>\n      <td>48</td>\n    </tr>\n    <tr>\n      <td>2715</td>\n      <td>1499</td>\n      <td>11</td>\n      <td>59</td>\n    </tr>\n    <tr>\n      <td>2716</td>\n      <td>1499</td>\n      <td>12</td>\n      <td>66</td>\n    </tr>\n  </tbody>\n</table>\n<p>2717 rows × 3 columns</p>\n</div>",
            "text/plain": "      user_id  month  messages_by_month_total\n0        1000      5                       22\n1        1000      6                       60\n2        1000      7                       75\n3        1000      8                       81\n4        1000      9                       57\n...       ...    ...                      ...\n2712     1498     10                       42\n2713     1499      9                       11\n2714     1499     10                       48\n2715     1499     11                       59\n2716     1499     12                       66\n\n[2717 rows x 3 columns]"
          },
          "execution_count": 227,
          "metadata": {},
          "output_type": "execute_result"
        }
      ]
    },
    {
      "cell_type": "code",
      "metadata": {
        "colab": {
          "base_uri": "https://localhost:8080/",
          "height": 452
        },
        "id": "VLT8csGvvqiu",
        "trusted": true,
        "outputId": "bf96a3f9-d9a8-4746-c5f0-1ac5d4fe3771"
      },
      "source": [
        "messages_grouped = messages.groupby('month').agg({'id':'count'})\n",
        "messages_grouped"
      ],
      "execution_count": null,
      "outputs": [
        {
          "data": {
            "text/html": "<div>\n<style scoped>\n    .dataframe tbody tr th:only-of-type {\n        vertical-align: middle;\n    }\n\n    .dataframe tbody tr th {\n        vertical-align: top;\n    }\n\n    .dataframe thead th {\n        text-align: right;\n    }\n</style>\n<table border=\"1\" class=\"dataframe\">\n  <thead>\n    <tr style=\"text-align: right;\">\n      <th></th>\n      <th>id</th>\n    </tr>\n    <tr>\n      <th>month</th>\n      <th></th>\n    </tr>\n  </thead>\n  <tbody>\n    <tr>\n      <td>1</td>\n      <td>924</td>\n    </tr>\n    <tr>\n      <td>2</td>\n      <td>1924</td>\n    </tr>\n    <tr>\n      <td>3</td>\n      <td>3648</td>\n    </tr>\n    <tr>\n      <td>4</td>\n      <td>5179</td>\n    </tr>\n    <tr>\n      <td>5</td>\n      <td>7298</td>\n    </tr>\n    <tr>\n      <td>6</td>\n      <td>8983</td>\n    </tr>\n    <tr>\n      <td>7</td>\n      <td>11320</td>\n    </tr>\n    <tr>\n      <td>8</td>\n      <td>13088</td>\n    </tr>\n    <tr>\n      <td>9</td>\n      <td>14759</td>\n    </tr>\n    <tr>\n      <td>10</td>\n      <td>17114</td>\n    </tr>\n    <tr>\n      <td>11</td>\n      <td>18244</td>\n    </tr>\n    <tr>\n      <td>12</td>\n      <td>20555</td>\n    </tr>\n  </tbody>\n</table>\n</div>",
            "text/plain": "          id\nmonth       \n1        924\n2       1924\n3       3648\n4       5179\n5       7298\n6       8983\n7      11320\n8      13088\n9      14759\n10     17114\n11     18244\n12     20555"
          },
          "execution_count": 228,
          "metadata": {},
          "output_type": "execute_result"
        }
      ]
    },
    {
      "cell_type": "code",
      "metadata": {
        "colab": {
          "base_uri": "https://localhost:8080/",
          "height": 295
        },
        "id": "0RX_NGTivrKN",
        "trusted": true,
        "outputId": "27b2441d-14cc-440f-9935-d179b6968b2a"
      },
      "source": [
        "messages_grouped.plot()\n",
        "plt.title('Количество сообщений по месяцам')\n",
        "plt.show()"
      ],
      "execution_count": null,
      "outputs": [
        {
          "data": {
            "image/png": "[encoded data removed]",
            "text/plain": "<Figure size 432x288 with 1 Axes>"
          },
          "metadata": {
            "needs_background": "light"
          },
          "output_type": "display_data"
        }
      ]
    },
    {
      "cell_type": "markdown",
      "metadata": {
        "id": "CL7gDN9owPot"
      },
      "source": [
        "Количество сообщений также линейно увеличивается от месяца к месяцу, и, соответственно, показывают минимум в январе (924), а максимум в декабре (20555)."
      ]
    },
    {
      "cell_type": "markdown",
      "metadata": {
        "id": "H78rp2QTNJMt"
      },
      "source": [
        "Объем израсходованного интернет-трафика по месяцам:"
      ]
    },
    {
      "cell_type": "code",
      "metadata": {
        "colab": {
          "base_uri": "https://localhost:8080/",
          "height": 419
        },
        "id": "c1s9cjpEY_6X",
        "trusted": true,
        "outputId": "63b31abd-4cd2-4af8-887b-9183ebb8145c"
      },
      "source": [
        "internet_by_month = internet.groupby(['user_id', 'month']).agg({'mb_used':'sum'}).reset_index().rename(columns={'mb_used':'internet_by_month_total'})\n",
        "internet_by_month                                               "
      ],
      "execution_count": null,
      "outputs": [
        {
          "data": {
            "text/html": "<div>\n<style scoped>\n    .dataframe tbody tr th:only-of-type {\n        vertical-align: middle;\n    }\n\n    .dataframe tbody tr th {\n        vertical-align: top;\n    }\n\n    .dataframe thead th {\n        text-align: right;\n    }\n</style>\n<table border=\"1\" class=\"dataframe\">\n  <thead>\n    <tr style=\"text-align: right;\">\n      <th></th>\n      <th>user_id</th>\n      <th>month</th>\n      <th>internet_by_month_total</th>\n    </tr>\n  </thead>\n  <tbody>\n    <tr>\n      <td>0</td>\n      <td>1000</td>\n      <td>5</td>\n      <td>2256.0</td>\n    </tr>\n    <tr>\n      <td>1</td>\n      <td>1000</td>\n      <td>6</td>\n      <td>23257.0</td>\n    </tr>\n    <tr>\n      <td>2</td>\n      <td>1000</td>\n      <td>7</td>\n      <td>14016.0</td>\n    </tr>\n    <tr>\n      <td>3</td>\n      <td>1000</td>\n      <td>8</td>\n      <td>14070.0</td>\n    </tr>\n    <tr>\n      <td>4</td>\n      <td>1000</td>\n      <td>9</td>\n      <td>14581.0</td>\n    </tr>\n    <tr>\n      <td>...</td>\n      <td>...</td>\n      <td>...</td>\n      <td>...</td>\n    </tr>\n    <tr>\n      <td>3198</td>\n      <td>1498</td>\n      <td>10</td>\n      <td>20604.0</td>\n    </tr>\n    <tr>\n      <td>3199</td>\n      <td>1499</td>\n      <td>9</td>\n      <td>1848.0</td>\n    </tr>\n    <tr>\n      <td>3200</td>\n      <td>1499</td>\n      <td>10</td>\n      <td>17809.0</td>\n    </tr>\n    <tr>\n      <td>3201</td>\n      <td>1499</td>\n      <td>11</td>\n      <td>17984.0</td>\n    </tr>\n    <tr>\n      <td>3202</td>\n      <td>1499</td>\n      <td>12</td>\n      <td>13077.0</td>\n    </tr>\n  </tbody>\n</table>\n<p>3203 rows × 3 columns</p>\n</div>",
            "text/plain": "      user_id  month  internet_by_month_total\n0        1000      5                   2256.0\n1        1000      6                  23257.0\n2        1000      7                  14016.0\n3        1000      8                  14070.0\n4        1000      9                  14581.0\n...       ...    ...                      ...\n3198     1498     10                  20604.0\n3199     1499      9                   1848.0\n3200     1499     10                  17809.0\n3201     1499     11                  17984.0\n3202     1499     12                  13077.0\n\n[3203 rows x 3 columns]"
          },
          "execution_count": 230,
          "metadata": {},
          "output_type": "execute_result"
        }
      ]
    },
    {
      "cell_type": "code",
      "metadata": {
        "colab": {
          "base_uri": "https://localhost:8080/",
          "height": 452
        },
        "id": "aa4LOz_Fw0CF",
        "trusted": true,
        "outputId": "45f971c7-67cb-4ad3-8a63-6347c5a02800"
      },
      "source": [
        "internet_grouped = internet.groupby('month').agg({'mb_used':'sum'})\n",
        "internet_grouped"
      ],
      "execution_count": null,
      "outputs": [
        {
          "data": {
            "text/html": "<div>\n<style scoped>\n    .dataframe tbody tr th:only-of-type {\n        vertical-align: middle;\n    }\n\n    .dataframe tbody tr th {\n        vertical-align: top;\n    }\n\n    .dataframe thead th {\n        text-align: right;\n    }\n</style>\n<table border=\"1\" class=\"dataframe\">\n  <thead>\n    <tr style=\"text-align: right;\">\n      <th></th>\n      <th>mb_used</th>\n    </tr>\n    <tr>\n      <th>month</th>\n      <th></th>\n    </tr>\n  </thead>\n  <tbody>\n    <tr>\n      <td>1</td>\n      <td>408213.0</td>\n    </tr>\n    <tr>\n      <td>2</td>\n      <td>956348.0</td>\n    </tr>\n    <tr>\n      <td>3</td>\n      <td>1813960.0</td>\n    </tr>\n    <tr>\n      <td>4</td>\n      <td>2436111.0</td>\n    </tr>\n    <tr>\n      <td>5</td>\n      <td>3529893.0</td>\n    </tr>\n    <tr>\n      <td>6</td>\n      <td>4184770.0</td>\n    </tr>\n    <tr>\n      <td>7</td>\n      <td>5035299.0</td>\n    </tr>\n    <tr>\n      <td>8</td>\n      <td>6005126.0</td>\n    </tr>\n    <tr>\n      <td>9</td>\n      <td>6454931.0</td>\n    </tr>\n    <tr>\n      <td>10</td>\n      <td>7400754.0</td>\n    </tr>\n    <tr>\n      <td>11</td>\n      <td>7999852.0</td>\n    </tr>\n    <tr>\n      <td>12</td>\n      <td>9144202.0</td>\n    </tr>\n  </tbody>\n</table>\n</div>",
            "text/plain": "         mb_used\nmonth           \n1       408213.0\n2       956348.0\n3      1813960.0\n4      2436111.0\n5      3529893.0\n6      4184770.0\n7      5035299.0\n8      6005126.0\n9      6454931.0\n10     7400754.0\n11     7999852.0\n12     9144202.0"
          },
          "execution_count": 231,
          "metadata": {},
          "output_type": "execute_result"
        }
      ]
    },
    {
      "cell_type": "code",
      "metadata": {
        "colab": {
          "base_uri": "https://localhost:8080/",
          "height": 295
        },
        "id": "_G5BJLKUw0FW",
        "trusted": true,
        "outputId": "dd46e4d4-f066-4853-a052-c1d6361a7b8e"
      },
      "source": [
        "internet_grouped.plot()\n",
        "plt.title('Количество мегабайт по месяцам')\n",
        "plt.show()\n"
      ],
      "execution_count": null,
      "outputs": [
        {
          "data": {
            "image/png": "[encoded data removed]",
            "text/plain": "<Figure size 432x288 with 1 Axes>"
          },
          "metadata": {
            "needs_background": "light"
          },
          "output_type": "display_data"
        }
      ]
    },
    {
      "cell_type": "markdown",
      "metadata": {
        "id": "5Rrx3ErAxgwm"
      },
      "source": [
        "Абсолютно такая же картина с интернетом. Минимум 408 ГБ в январе и 9 ТБ в декабре. Видимо, мы наблюдаем становление нового поставщика связи или запуск новых тарифов."
      ]
    },
    {
      "cell_type": "code",
      "metadata": {
        "trusted": true,
        "id": "xuxYVbX6_edE",
        "outputId": "87e1149d-ad01-4e5c-cc5d-a36a46edfa26"
      },
      "source": [
        "\n",
        "calls.groupby('month')['user_id'].nunique()"
      ],
      "execution_count": null,
      "outputs": [
        {
          "data": {
            "text/plain": "month\n1      43\n2      82\n3     114\n4     165\n5     205\n6     244\n7     289\n8     337\n9     370\n10    411\n11    444\n12    470\nName: user_id, dtype: int64"
          },
          "execution_count": 233,
          "metadata": {},
          "output_type": "execute_result"
        }
      ]
    },
    {
      "cell_type": "markdown",
      "metadata": {
        "id": "Czq7zNHUNOe6"
      },
      "source": [
        "Для того, чтобы найти **помесячную выручку с каждого пользователя**, склеим в единый ДФ таблицы с необходимыми данными: количеством звонков, сообщений, интернет-трафика за месяц, условия тарификации, данные пользователей."
      ]
    },
    {
      "cell_type": "code",
      "metadata": {
        "id": "2whllklK9ljA",
        "trusted": true
      },
      "source": [
        "df = calls_by_month.merge(messages_by_month, on=['user_id','month'], how='outer')"
      ],
      "execution_count": null,
      "outputs": []
    },
    {
      "cell_type": "code",
      "metadata": {
        "id": "kNENs1HCTfcz",
        "trusted": true
      },
      "source": [
        "df = df.merge(internet_by_month, on=['user_id','month'], how = 'outer')\n"
      ],
      "execution_count": null,
      "outputs": []
    },
    {
      "cell_type": "code",
      "metadata": {
        "id": "eItpIIzhTlXq",
        "trusted": true
      },
      "source": [
        "df = df.merge(users, on='user_id', how='left')\n"
      ],
      "execution_count": null,
      "outputs": []
    },
    {
      "cell_type": "code",
      "metadata": {
        "colab": {
          "base_uri": "https://localhost:8080/",
          "height": 609
        },
        "id": "ZXxS_rflUmZH",
        "trusted": true,
        "outputId": "cd9b7f8a-080c-4b8a-f657-1aecc70c0b1e"
      },
      "source": [
        "\n",
        "df = df.merge(tariffs, on='tariff', how='left')\n",
        "df"
      ],
      "execution_count": null,
      "outputs": [
        {
          "data": {
            "text/html": "<div>\n<style scoped>\n    .dataframe tbody tr th:only-of-type {\n        vertical-align: middle;\n    }\n\n    .dataframe tbody tr th {\n        vertical-align: top;\n    }\n\n    .dataframe thead th {\n        text-align: right;\n    }\n</style>\n<table border=\"1\" class=\"dataframe\">\n  <thead>\n    <tr style=\"text-align: right;\">\n      <th></th>\n      <th>user_id</th>\n      <th>month</th>\n      <th>calls_by_month_duration</th>\n      <th>calls_by_month_total</th>\n      <th>messages_by_month_total</th>\n      <th>internet_by_month_total</th>\n      <th>age</th>\n      <th>churn_date</th>\n      <th>city</th>\n      <th>first_name</th>\n      <th>last_name</th>\n      <th>reg_date</th>\n      <th>tariff</th>\n      <th>messages_included</th>\n      <th>mb_per_month_included</th>\n      <th>minutes_included</th>\n      <th>rub_monthly_fee</th>\n      <th>rub_per_gb</th>\n      <th>rub_per_message</th>\n      <th>rub_per_minute</th>\n    </tr>\n  </thead>\n  <tbody>\n    <tr>\n      <td>0</td>\n      <td>1000</td>\n      <td>5</td>\n      <td>159.0</td>\n      <td>22.0</td>\n      <td>22.0</td>\n      <td>2256.0</td>\n      <td>52</td>\n      <td>NaT</td>\n      <td>Краснодар</td>\n      <td>Рафаил</td>\n      <td>Верещагин</td>\n      <td>2018-05-25</td>\n      <td>ultra</td>\n      <td>1000</td>\n      <td>30720</td>\n      <td>3000</td>\n      <td>1950</td>\n      <td>150</td>\n      <td>1</td>\n      <td>1</td>\n    </tr>\n    <tr>\n      <td>1</td>\n      <td>1000</td>\n      <td>6</td>\n      <td>172.0</td>\n      <td>43.0</td>\n      <td>60.0</td>\n      <td>23257.0</td>\n      <td>52</td>\n      <td>NaT</td>\n      <td>Краснодар</td>\n      <td>Рафаил</td>\n      <td>Верещагин</td>\n      <td>2018-05-25</td>\n      <td>ultra</td>\n      <td>1000</td>\n      <td>30720</td>\n      <td>3000</td>\n      <td>1950</td>\n      <td>150</td>\n      <td>1</td>\n      <td>1</td>\n    </tr>\n    <tr>\n      <td>2</td>\n      <td>1000</td>\n      <td>7</td>\n      <td>340.0</td>\n      <td>47.0</td>\n      <td>75.0</td>\n      <td>14016.0</td>\n      <td>52</td>\n      <td>NaT</td>\n      <td>Краснодар</td>\n      <td>Рафаил</td>\n      <td>Верещагин</td>\n      <td>2018-05-25</td>\n      <td>ultra</td>\n      <td>1000</td>\n      <td>30720</td>\n      <td>3000</td>\n      <td>1950</td>\n      <td>150</td>\n      <td>1</td>\n      <td>1</td>\n    </tr>\n    <tr>\n      <td>3</td>\n      <td>1000</td>\n      <td>8</td>\n      <td>408.0</td>\n      <td>52.0</td>\n      <td>81.0</td>\n      <td>14070.0</td>\n      <td>52</td>\n      <td>NaT</td>\n      <td>Краснодар</td>\n      <td>Рафаил</td>\n      <td>Верещагин</td>\n      <td>2018-05-25</td>\n      <td>ultra</td>\n      <td>1000</td>\n      <td>30720</td>\n      <td>3000</td>\n      <td>1950</td>\n      <td>150</td>\n      <td>1</td>\n      <td>1</td>\n    </tr>\n    <tr>\n      <td>4</td>\n      <td>1000</td>\n      <td>9</td>\n      <td>466.0</td>\n      <td>58.0</td>\n      <td>57.0</td>\n      <td>14581.0</td>\n      <td>52</td>\n      <td>NaT</td>\n      <td>Краснодар</td>\n      <td>Рафаил</td>\n      <td>Верещагин</td>\n      <td>2018-05-25</td>\n      <td>ultra</td>\n      <td>1000</td>\n      <td>30720</td>\n      <td>3000</td>\n      <td>1950</td>\n      <td>150</td>\n      <td>1</td>\n      <td>1</td>\n    </tr>\n    <tr>\n      <td>...</td>\n      <td>...</td>\n      <td>...</td>\n      <td>...</td>\n      <td>...</td>\n      <td>...</td>\n      <td>...</td>\n      <td>...</td>\n      <td>...</td>\n      <td>...</td>\n      <td>...</td>\n      <td>...</td>\n      <td>...</td>\n      <td>...</td>\n      <td>...</td>\n      <td>...</td>\n      <td>...</td>\n      <td>...</td>\n      <td>...</td>\n      <td>...</td>\n      <td>...</td>\n    </tr>\n    <tr>\n      <td>3209</td>\n      <td>1489</td>\n      <td>9</td>\n      <td>NaN</td>\n      <td>NaN</td>\n      <td>32.0</td>\n      <td>17232.0</td>\n      <td>35</td>\n      <td>NaT</td>\n      <td>Санкт-Петербург</td>\n      <td>Павел</td>\n      <td>Гончаров</td>\n      <td>2018-08-15</td>\n      <td>smart</td>\n      <td>50</td>\n      <td>15360</td>\n      <td>500</td>\n      <td>550</td>\n      <td>200</td>\n      <td>3</td>\n      <td>3</td>\n    </tr>\n    <tr>\n      <td>3210</td>\n      <td>1489</td>\n      <td>10</td>\n      <td>NaN</td>\n      <td>NaN</td>\n      <td>21.0</td>\n      <td>19588.0</td>\n      <td>35</td>\n      <td>NaT</td>\n      <td>Санкт-Петербург</td>\n      <td>Павел</td>\n      <td>Гончаров</td>\n      <td>2018-08-15</td>\n      <td>smart</td>\n      <td>50</td>\n      <td>15360</td>\n      <td>500</td>\n      <td>550</td>\n      <td>200</td>\n      <td>3</td>\n      <td>3</td>\n    </tr>\n    <tr>\n      <td>3211</td>\n      <td>1489</td>\n      <td>11</td>\n      <td>NaN</td>\n      <td>NaN</td>\n      <td>20.0</td>\n      <td>17516.0</td>\n      <td>35</td>\n      <td>NaT</td>\n      <td>Санкт-Петербург</td>\n      <td>Павел</td>\n      <td>Гончаров</td>\n      <td>2018-08-15</td>\n      <td>smart</td>\n      <td>50</td>\n      <td>15360</td>\n      <td>500</td>\n      <td>550</td>\n      <td>200</td>\n      <td>3</td>\n      <td>3</td>\n    </tr>\n    <tr>\n      <td>3212</td>\n      <td>1489</td>\n      <td>12</td>\n      <td>NaN</td>\n      <td>NaN</td>\n      <td>35.0</td>\n      <td>17341.0</td>\n      <td>35</td>\n      <td>NaT</td>\n      <td>Санкт-Петербург</td>\n      <td>Павел</td>\n      <td>Гончаров</td>\n      <td>2018-08-15</td>\n      <td>smart</td>\n      <td>50</td>\n      <td>15360</td>\n      <td>500</td>\n      <td>550</td>\n      <td>200</td>\n      <td>3</td>\n      <td>3</td>\n    </tr>\n    <tr>\n      <td>3213</td>\n      <td>1476</td>\n      <td>4</td>\n      <td>NaN</td>\n      <td>NaN</td>\n      <td>NaN</td>\n      <td>531.0</td>\n      <td>50</td>\n      <td>NaT</td>\n      <td>Москва</td>\n      <td>Валентина</td>\n      <td>Семенова</td>\n      <td>2018-04-30</td>\n      <td>ultra</td>\n      <td>1000</td>\n      <td>30720</td>\n      <td>3000</td>\n      <td>1950</td>\n      <td>150</td>\n      <td>1</td>\n      <td>1</td>\n    </tr>\n  </tbody>\n</table>\n<p>3214 rows × 20 columns</p>\n</div>",
            "text/plain": "      user_id  month  calls_by_month_duration  calls_by_month_total  \\\n0        1000      5                    159.0                  22.0   \n1        1000      6                    172.0                  43.0   \n2        1000      7                    340.0                  47.0   \n3        1000      8                    408.0                  52.0   \n4        1000      9                    466.0                  58.0   \n...       ...    ...                      ...                   ...   \n3209     1489      9                      NaN                   NaN   \n3210     1489     10                      NaN                   NaN   \n3211     1489     11                      NaN                   NaN   \n3212     1489     12                      NaN                   NaN   \n3213     1476      4                      NaN                   NaN   \n\n      messages_by_month_total  internet_by_month_total  age churn_date  \\\n0                        22.0                   2256.0   52        NaT   \n1                        60.0                  23257.0   52        NaT   \n2                        75.0                  14016.0   52        NaT   \n3                        81.0                  14070.0   52        NaT   \n4                        57.0                  14581.0   52        NaT   \n...                       ...                      ...  ...        ...   \n3209                     32.0                  17232.0   35        NaT   \n3210                     21.0                  19588.0   35        NaT   \n3211                     20.0                  17516.0   35        NaT   \n3212                     35.0                  17341.0   35        NaT   \n3213                      NaN                    531.0   50        NaT   \n\n                 city first_name  last_name   reg_date tariff  \\\n0           Краснодар     Рафаил  Верещагин 2018-05-25  ultra   \n1           Краснодар     Рафаил  Верещагин 2018-05-25  ultra   \n2           Краснодар     Рафаил  Верещагин 2018-05-25  ultra   \n3           Краснодар     Рафаил  Верещагин 2018-05-25  ultra   \n4           Краснодар     Рафаил  Верещагин 2018-05-25  ultra   \n...               ...        ...        ...        ...    ...   \n3209  Санкт-Петербург      Павел   Гончаров 2018-08-15  smart   \n3210  Санкт-Петербург      Павел   Гончаров 2018-08-15  smart   \n3211  Санкт-Петербург      Павел   Гончаров 2018-08-15  smart   \n3212  Санкт-Петербург      Павел   Гончаров 2018-08-15  smart   \n3213           Москва  Валентина   Семенова 2018-04-30  ultra   \n\n      messages_included  mb_per_month_included  minutes_included  \\\n0                  1000                  30720              3000   \n1                  1000                  30720              3000   \n2                  1000                  30720              3000   \n3                  1000                  30720              3000   \n4                  1000                  30720              3000   \n...                 ...                    ...               ...   \n3209                 50                  15360               500   \n3210                 50                  15360               500   \n3211                 50                  15360               500   \n3212                 50                  15360               500   \n3213               1000                  30720              3000   \n\n      rub_monthly_fee  rub_per_gb  rub_per_message  rub_per_minute  \n0                1950         150                1               1  \n1                1950         150                1               1  \n2                1950         150                1               1  \n3                1950         150                1               1  \n4                1950         150                1               1  \n...               ...         ...              ...             ...  \n3209              550         200                3               3  \n3210              550         200                3               3  \n3211              550         200                3               3  \n3212              550         200                3               3  \n3213             1950         150                1               1  \n\n[3214 rows x 20 columns]"
          },
          "execution_count": 237,
          "metadata": {},
          "output_type": "execute_result"
        }
      ]
    },
    {
      "cell_type": "markdown",
      "metadata": {
        "id": "Cho5MWH8iLp4"
      },
      "source": [
        "Проверим новый ДФ на наличие дубликатов и пропусков:"
      ]
    },
    {
      "cell_type": "code",
      "metadata": {
        "colab": {
          "base_uri": "https://localhost:8080/"
        },
        "id": "diQQ6S0CUtm-",
        "trusted": true,
        "outputId": "f394d054-4413-4bec-b64d-92e8a164b1ef"
      },
      "source": [
        "df.duplicated().sum()"
      ],
      "execution_count": null,
      "outputs": [
        {
          "data": {
            "text/plain": "0"
          },
          "execution_count": 238,
          "metadata": {},
          "output_type": "execute_result"
        }
      ]
    },
    {
      "cell_type": "code",
      "metadata": {
        "colab": {
          "base_uri": "https://localhost:8080/"
        },
        "id": "LPt05Zp7ZAOL",
        "trusted": true,
        "outputId": "492fba53-4549-4d6e-b749-d9415fbafc97"
      },
      "source": [
        "df.isna().sum()"
      ],
      "execution_count": null,
      "outputs": [
        {
          "data": {
            "text/plain": "user_id                       0\nmonth                         0\ncalls_by_month_duration      40\ncalls_by_month_total         40\nmessages_by_month_total     497\ninternet_by_month_total      11\nage                           0\nchurn_date                 3027\ncity                          0\nfirst_name                    0\nlast_name                     0\nreg_date                      0\ntariff                        0\nmessages_included             0\nmb_per_month_included         0\nminutes_included              0\nrub_monthly_fee               0\nrub_per_gb                    0\nrub_per_message               0\nrub_per_minute                0\ndtype: int64"
          },
          "execution_count": 239,
          "metadata": {},
          "output_type": "execute_result"
        }
      ]
    },
    {
      "cell_type": "markdown",
      "metadata": {
        "id": "IraSf-ERjsUJ"
      },
      "source": [
        "Судя по всему, эти пропуски связаны с тем, что мы склеивали таблицы с разным количеством строк, пока оставим их. "
      ]
    },
    {
      "cell_type": "markdown",
      "metadata": {
        "id": "zSKz-gT9BRLY"
      },
      "source": [
        "Найдем **помесячную выручку** за связь: вычтем бесплатный лимит из суммарного количества звонков, сообщений и интернет-трафика; остаток умножим на значение из тарифного плана; прибавим абонентскую плату, соответствующую тарифному плану. Чтобы найти доход сразу от звонков, сообщений и интерента, напишем функцию."
      ]
    },
    {
      "cell_type": "code",
      "metadata": {
        "id": "jCu4xmVLjikL",
        "trusted": true
      },
      "source": [
        "def added_expenses (row):\n",
        "    calls_exp = (row['calls_by_month_duration'] - row['minutes_included']) * row['rub_per_minute']\n",
        "    messages_exp = (row['messages_by_month_total'] - row['messages_included']) * row['rub_per_message']\n",
        "    internet_exp = np.ceil((row['internet_by_month_total'] - row['mb_per_month_included']) * row['rub_per_gb'] / 1024)\n",
        "    total = 0\n",
        "    for i in [calls_exp, messages_exp, internet_exp]:\n",
        "        if i > 0:\n",
        "            total += i\n",
        "    return total\n",
        "    "
      ],
      "execution_count": null,
      "outputs": []
    },
    {
      "cell_type": "code",
      "metadata": {
        "id": "1Ksm3AqFAU0T",
        "trusted": true
      },
      "source": [
        "df['added_expenses'] = df.apply(added_expenses, axis=1)"
      ],
      "execution_count": null,
      "outputs": []
    },
    {
      "cell_type": "markdown",
      "metadata": {
        "id": "FQOY6kzPC674"
      },
      "source": [
        "Прибавим к расходам абонентскую плату:"
      ]
    },
    {
      "cell_type": "code",
      "metadata": {
        "colab": {
          "base_uri": "https://localhost:8080/",
          "height": 609
        },
        "id": "ZBa79r_4AqPX",
        "trusted": true,
        "outputId": "400a0ac5-d273-4263-b2fc-324d7a659c55"
      },
      "source": [
        "df['total_paid'] = df['rub_monthly_fee'] + df['added_expenses']\n",
        "df"
      ],
      "execution_count": null,
      "outputs": [
        {
          "data": {
            "text/html": "<div>\n<style scoped>\n    .dataframe tbody tr th:only-of-type {\n        vertical-align: middle;\n    }\n\n    .dataframe tbody tr th {\n        vertical-align: top;\n    }\n\n    .dataframe thead th {\n        text-align: right;\n    }\n</style>\n<table border=\"1\" class=\"dataframe\">\n  <thead>\n    <tr style=\"text-align: right;\">\n      <th></th>\n      <th>user_id</th>\n      <th>month</th>\n      <th>calls_by_month_duration</th>\n      <th>calls_by_month_total</th>\n      <th>messages_by_month_total</th>\n      <th>internet_by_month_total</th>\n      <th>age</th>\n      <th>churn_date</th>\n      <th>city</th>\n      <th>first_name</th>\n      <th>...</th>\n      <th>tariff</th>\n      <th>messages_included</th>\n      <th>mb_per_month_included</th>\n      <th>minutes_included</th>\n      <th>rub_monthly_fee</th>\n      <th>rub_per_gb</th>\n      <th>rub_per_message</th>\n      <th>rub_per_minute</th>\n      <th>added_expenses</th>\n      <th>total_paid</th>\n    </tr>\n  </thead>\n  <tbody>\n    <tr>\n      <td>0</td>\n      <td>1000</td>\n      <td>5</td>\n      <td>159.0</td>\n      <td>22.0</td>\n      <td>22.0</td>\n      <td>2256.0</td>\n      <td>52</td>\n      <td>NaT</td>\n      <td>Краснодар</td>\n      <td>Рафаил</td>\n      <td>...</td>\n      <td>ultra</td>\n      <td>1000</td>\n      <td>30720</td>\n      <td>3000</td>\n      <td>1950</td>\n      <td>150</td>\n      <td>1</td>\n      <td>1</td>\n      <td>0.0</td>\n      <td>1950.0</td>\n    </tr>\n    <tr>\n      <td>1</td>\n      <td>1000</td>\n      <td>6</td>\n      <td>172.0</td>\n      <td>43.0</td>\n      <td>60.0</td>\n      <td>23257.0</td>\n      <td>52</td>\n      <td>NaT</td>\n      <td>Краснодар</td>\n      <td>Рафаил</td>\n      <td>...</td>\n      <td>ultra</td>\n      <td>1000</td>\n      <td>30720</td>\n      <td>3000</td>\n      <td>1950</td>\n      <td>150</td>\n      <td>1</td>\n      <td>1</td>\n      <td>0.0</td>\n      <td>1950.0</td>\n    </tr>\n    <tr>\n      <td>2</td>\n      <td>1000</td>\n      <td>7</td>\n      <td>340.0</td>\n      <td>47.0</td>\n      <td>75.0</td>\n      <td>14016.0</td>\n      <td>52</td>\n      <td>NaT</td>\n      <td>Краснодар</td>\n      <td>Рафаил</td>\n      <td>...</td>\n      <td>ultra</td>\n      <td>1000</td>\n      <td>30720</td>\n      <td>3000</td>\n      <td>1950</td>\n      <td>150</td>\n      <td>1</td>\n      <td>1</td>\n      <td>0.0</td>\n      <td>1950.0</td>\n    </tr>\n    <tr>\n      <td>3</td>\n      <td>1000</td>\n      <td>8</td>\n      <td>408.0</td>\n      <td>52.0</td>\n      <td>81.0</td>\n      <td>14070.0</td>\n      <td>52</td>\n      <td>NaT</td>\n      <td>Краснодар</td>\n      <td>Рафаил</td>\n      <td>...</td>\n      <td>ultra</td>\n      <td>1000</td>\n      <td>30720</td>\n      <td>3000</td>\n      <td>1950</td>\n      <td>150</td>\n      <td>1</td>\n      <td>1</td>\n      <td>0.0</td>\n      <td>1950.0</td>\n    </tr>\n    <tr>\n      <td>4</td>\n      <td>1000</td>\n      <td>9</td>\n      <td>466.0</td>\n      <td>58.0</td>\n      <td>57.0</td>\n      <td>14581.0</td>\n      <td>52</td>\n      <td>NaT</td>\n      <td>Краснодар</td>\n      <td>Рафаил</td>\n      <td>...</td>\n      <td>ultra</td>\n      <td>1000</td>\n      <td>30720</td>\n      <td>3000</td>\n      <td>1950</td>\n      <td>150</td>\n      <td>1</td>\n      <td>1</td>\n      <td>0.0</td>\n      <td>1950.0</td>\n    </tr>\n    <tr>\n      <td>...</td>\n      <td>...</td>\n      <td>...</td>\n      <td>...</td>\n      <td>...</td>\n      <td>...</td>\n      <td>...</td>\n      <td>...</td>\n      <td>...</td>\n      <td>...</td>\n      <td>...</td>\n      <td>...</td>\n      <td>...</td>\n      <td>...</td>\n      <td>...</td>\n      <td>...</td>\n      <td>...</td>\n      <td>...</td>\n      <td>...</td>\n      <td>...</td>\n      <td>...</td>\n      <td>...</td>\n    </tr>\n    <tr>\n      <td>3209</td>\n      <td>1489</td>\n      <td>9</td>\n      <td>NaN</td>\n      <td>NaN</td>\n      <td>32.0</td>\n      <td>17232.0</td>\n      <td>35</td>\n      <td>NaT</td>\n      <td>Санкт-Петербург</td>\n      <td>Павел</td>\n      <td>...</td>\n      <td>smart</td>\n      <td>50</td>\n      <td>15360</td>\n      <td>500</td>\n      <td>550</td>\n      <td>200</td>\n      <td>3</td>\n      <td>3</td>\n      <td>366.0</td>\n      <td>916.0</td>\n    </tr>\n    <tr>\n      <td>3210</td>\n      <td>1489</td>\n      <td>10</td>\n      <td>NaN</td>\n      <td>NaN</td>\n      <td>21.0</td>\n      <td>19588.0</td>\n      <td>35</td>\n      <td>NaT</td>\n      <td>Санкт-Петербург</td>\n      <td>Павел</td>\n      <td>...</td>\n      <td>smart</td>\n      <td>50</td>\n      <td>15360</td>\n      <td>500</td>\n      <td>550</td>\n      <td>200</td>\n      <td>3</td>\n      <td>3</td>\n      <td>826.0</td>\n      <td>1376.0</td>\n    </tr>\n    <tr>\n      <td>3211</td>\n      <td>1489</td>\n      <td>11</td>\n      <td>NaN</td>\n      <td>NaN</td>\n      <td>20.0</td>\n      <td>17516.0</td>\n      <td>35</td>\n      <td>NaT</td>\n      <td>Санкт-Петербург</td>\n      <td>Павел</td>\n      <td>...</td>\n      <td>smart</td>\n      <td>50</td>\n      <td>15360</td>\n      <td>500</td>\n      <td>550</td>\n      <td>200</td>\n      <td>3</td>\n      <td>3</td>\n      <td>422.0</td>\n      <td>972.0</td>\n    </tr>\n    <tr>\n      <td>3212</td>\n      <td>1489</td>\n      <td>12</td>\n      <td>NaN</td>\n      <td>NaN</td>\n      <td>35.0</td>\n      <td>17341.0</td>\n      <td>35</td>\n      <td>NaT</td>\n      <td>Санкт-Петербург</td>\n      <td>Павел</td>\n      <td>...</td>\n      <td>smart</td>\n      <td>50</td>\n      <td>15360</td>\n      <td>500</td>\n      <td>550</td>\n      <td>200</td>\n      <td>3</td>\n      <td>3</td>\n      <td>387.0</td>\n      <td>937.0</td>\n    </tr>\n    <tr>\n      <td>3213</td>\n      <td>1476</td>\n      <td>4</td>\n      <td>NaN</td>\n      <td>NaN</td>\n      <td>NaN</td>\n      <td>531.0</td>\n      <td>50</td>\n      <td>NaT</td>\n      <td>Москва</td>\n      <td>Валентина</td>\n      <td>...</td>\n      <td>ultra</td>\n      <td>1000</td>\n      <td>30720</td>\n      <td>3000</td>\n      <td>1950</td>\n      <td>150</td>\n      <td>1</td>\n      <td>1</td>\n      <td>0.0</td>\n      <td>1950.0</td>\n    </tr>\n  </tbody>\n</table>\n<p>3214 rows × 22 columns</p>\n</div>",
            "text/plain": "      user_id  month  calls_by_month_duration  calls_by_month_total  \\\n0        1000      5                    159.0                  22.0   \n1        1000      6                    172.0                  43.0   \n2        1000      7                    340.0                  47.0   \n3        1000      8                    408.0                  52.0   \n4        1000      9                    466.0                  58.0   \n...       ...    ...                      ...                   ...   \n3209     1489      9                      NaN                   NaN   \n3210     1489     10                      NaN                   NaN   \n3211     1489     11                      NaN                   NaN   \n3212     1489     12                      NaN                   NaN   \n3213     1476      4                      NaN                   NaN   \n\n      messages_by_month_total  internet_by_month_total  age churn_date  \\\n0                        22.0                   2256.0   52        NaT   \n1                        60.0                  23257.0   52        NaT   \n2                        75.0                  14016.0   52        NaT   \n3                        81.0                  14070.0   52        NaT   \n4                        57.0                  14581.0   52        NaT   \n...                       ...                      ...  ...        ...   \n3209                     32.0                  17232.0   35        NaT   \n3210                     21.0                  19588.0   35        NaT   \n3211                     20.0                  17516.0   35        NaT   \n3212                     35.0                  17341.0   35        NaT   \n3213                      NaN                    531.0   50        NaT   \n\n                 city first_name  ... tariff messages_included  \\\n0           Краснодар     Рафаил  ...  ultra              1000   \n1           Краснодар     Рафаил  ...  ultra              1000   \n2           Краснодар     Рафаил  ...  ultra              1000   \n3           Краснодар     Рафаил  ...  ultra              1000   \n4           Краснодар     Рафаил  ...  ultra              1000   \n...               ...        ...  ...    ...               ...   \n3209  Санкт-Петербург      Павел  ...  smart                50   \n3210  Санкт-Петербург      Павел  ...  smart                50   \n3211  Санкт-Петербург      Павел  ...  smart                50   \n3212  Санкт-Петербург      Павел  ...  smart                50   \n3213           Москва  Валентина  ...  ultra              1000   \n\n     mb_per_month_included  minutes_included  rub_monthly_fee  rub_per_gb  \\\n0                    30720              3000             1950         150   \n1                    30720              3000             1950         150   \n2                    30720              3000             1950         150   \n3                    30720              3000             1950         150   \n4                    30720              3000             1950         150   \n...                    ...               ...              ...         ...   \n3209                 15360               500              550         200   \n3210                 15360               500              550         200   \n3211                 15360               500              550         200   \n3212                 15360               500              550         200   \n3213                 30720              3000             1950         150   \n\n      rub_per_message  rub_per_minute  added_expenses  total_paid  \n0                   1               1             0.0      1950.0  \n1                   1               1             0.0      1950.0  \n2                   1               1             0.0      1950.0  \n3                   1               1             0.0      1950.0  \n4                   1               1             0.0      1950.0  \n...               ...             ...             ...         ...  \n3209                3               3           366.0       916.0  \n3210                3               3           826.0      1376.0  \n3211                3               3           422.0       972.0  \n3212                3               3           387.0       937.0  \n3213                1               1             0.0      1950.0  \n\n[3214 rows x 22 columns]"
          },
          "execution_count": 242,
          "metadata": {},
          "output_type": "execute_result"
        }
      ]
    },
    {
      "cell_type": "code",
      "metadata": {
        "colab": {
          "base_uri": "https://localhost:8080/",
          "height": 470
        },
        "id": "DkB_8fOK6AO_",
        "trusted": true,
        "outputId": "5af7d731-e790-4837-f00e-2f5d10a1a0f2"
      },
      "source": [
        "pt_tariff = df.pivot_table(index = 'tariff', values = 'total_paid', aggfunc = ['mean', 'median', 'sum'])\n",
        "pt_tariff.plot(y= 'median', kind='bar', grid=True, figsize=(8, 4))\n",
        "plt.title('Общие доходы по тарифам')\n",
        "pt_tariff"
      ],
      "execution_count": null,
      "outputs": [
        {
          "data": {
            "text/html": "<div>\n<style scoped>\n    .dataframe tbody tr th:only-of-type {\n        vertical-align: middle;\n    }\n\n    .dataframe tbody tr th {\n        vertical-align: top;\n    }\n\n    .dataframe thead tr th {\n        text-align: left;\n    }\n\n    .dataframe thead tr:last-of-type th {\n        text-align: right;\n    }\n</style>\n<table border=\"1\" class=\"dataframe\">\n  <thead>\n    <tr>\n      <th></th>\n      <th>mean</th>\n      <th>median</th>\n      <th>sum</th>\n    </tr>\n    <tr>\n      <th></th>\n      <th>total_paid</th>\n      <th>total_paid</th>\n      <th>total_paid</th>\n    </tr>\n    <tr>\n      <th>tariff</th>\n      <th></th>\n      <th></th>\n      <th></th>\n    </tr>\n  </thead>\n  <tbody>\n    <tr>\n      <td>smart</td>\n      <td>1233.641095</td>\n      <td>960.0</td>\n      <td>2749786.0</td>\n    </tr>\n    <tr>\n      <td>ultra</td>\n      <td>2060.598985</td>\n      <td>1950.0</td>\n      <td>2029690.0</td>\n    </tr>\n  </tbody>\n</table>\n</div>",
            "text/plain": "               mean     median        sum\n         total_paid total_paid total_paid\ntariff                                   \nsmart   1233.641095      960.0  2749786.0\nultra   2060.598985     1950.0  2029690.0"
          },
          "execution_count": 243,
          "metadata": {},
          "output_type": "execute_result"
        },
        {
          "data": {
            "image/png": "[encoded data removed]",
            "text/plain": "<Figure size 576x288 with 1 Axes>"
          },
          "metadata": {
            "needs_background": "light"
          },
          "output_type": "display_data"
        }
      ]
    },
    {
      "cell_type": "markdown",
      "metadata": {
        "id": "qQlR0z4EFp41"
      },
      "source": [
        "Общая выручка \"Мегалайна\" за весь рассматриваемый период от тарифа Смарт (2,7 млн.) в 1,3 раза выше, чем от тарифа Ультра (2 млн.). При этом средний показатель по выручке от Смарт в 2 раза ниже."
      ]
    },
    {
      "cell_type": "code",
      "metadata": {
        "colab": {
          "base_uri": "https://localhost:8080/",
          "height": 764
        },
        "id": "Q2BXsYCG-rk4",
        "trusted": true,
        "outputId": "e5fd581f-0485-4026-f61e-ba00baa5838c"
      },
      "source": [
        "pt_monthly_paid = df.pivot_table(index = 'month', values = 'total_paid', aggfunc = ['median', 'sum'])\n",
        "pt_monthly_paid.plot(kind='bar', grid=True, figsize=(8, 4))\n",
        "plt.title('Доходы по месяцам')\n",
        "pt_monthly_paid"
      ],
      "execution_count": null,
      "outputs": [
        {
          "data": {
            "text/html": "<div>\n<style scoped>\n    .dataframe tbody tr th:only-of-type {\n        vertical-align: middle;\n    }\n\n    .dataframe tbody tr th {\n        vertical-align: top;\n    }\n\n    .dataframe thead tr th {\n        text-align: left;\n    }\n\n    .dataframe thead tr:last-of-type th {\n        text-align: right;\n    }\n</style>\n<table border=\"1\" class=\"dataframe\">\n  <thead>\n    <tr>\n      <th></th>\n      <th>median</th>\n      <th>sum</th>\n    </tr>\n    <tr>\n      <th></th>\n      <th>total_paid</th>\n      <th>total_paid</th>\n    </tr>\n    <tr>\n      <th>month</th>\n      <th></th>\n      <th></th>\n    </tr>\n  </thead>\n  <tbody>\n    <tr>\n      <td>1</td>\n      <td>550.0</td>\n      <td>41440.0</td>\n    </tr>\n    <tr>\n      <td>2</td>\n      <td>710.5</td>\n      <td>94013.0</td>\n    </tr>\n    <tr>\n      <td>3</td>\n      <td>1544.5</td>\n      <td>160292.0</td>\n    </tr>\n    <tr>\n      <td>4</td>\n      <td>1194.0</td>\n      <td>213076.0</td>\n    </tr>\n    <tr>\n      <td>5</td>\n      <td>1464.5</td>\n      <td>299433.0</td>\n    </tr>\n    <tr>\n      <td>6</td>\n      <td>1541.5</td>\n      <td>359271.0</td>\n    </tr>\n    <tr>\n      <td>7</td>\n      <td>1460.0</td>\n      <td>426720.0</td>\n    </tr>\n    <tr>\n      <td>8</td>\n      <td>1619.0</td>\n      <td>517437.0</td>\n    </tr>\n    <tr>\n      <td>9</td>\n      <td>1578.0</td>\n      <td>543418.0</td>\n    </tr>\n    <tr>\n      <td>10</td>\n      <td>1629.0</td>\n      <td>636726.0</td>\n    </tr>\n    <tr>\n      <td>11</td>\n      <td>1600.5</td>\n      <td>684487.0</td>\n    </tr>\n    <tr>\n      <td>12</td>\n      <td>1855.0</td>\n      <td>803163.0</td>\n    </tr>\n  </tbody>\n</table>\n</div>",
            "text/plain": "          median        sum\n      total_paid total_paid\nmonth                      \n1          550.0    41440.0\n2          710.5    94013.0\n3         1544.5   160292.0\n4         1194.0   213076.0\n5         1464.5   299433.0\n6         1541.5   359271.0\n7         1460.0   426720.0\n8         1619.0   517437.0\n9         1578.0   543418.0\n10        1629.0   636726.0\n11        1600.5   684487.0\n12        1855.0   803163.0"
          },
          "execution_count": 244,
          "metadata": {},
          "output_type": "execute_result"
        },
        {
          "data": {
            "image/png": "[encoded data removed]",
            "text/plain": "<Figure size 576x288 with 1 Axes>"
          },
          "metadata": {
            "needs_background": "light"
          },
          "output_type": "display_data"
        }
      ]
    },
    {
      "cell_type": "markdown",
      "metadata": {
        "id": "jfLwDlayGwV9"
      },
      "source": [
        "С каждым месяцем расходы пользователей на связь растут. Так, суммарный доход в конце года превысил доход в начале года аж в 19,3 раз! Среднее значение дохода показывает нам разницу в 3,3 раз. Если средний доход от клиента в месяц составлял 550 рублей, что являтся абонентской платой за тариф Смарт, то в декабре выручка уже стала 1855 рублей."
      ]
    },
    {
      "cell_type": "markdown",
      "metadata": {
        "id": "XMO5VJeiDjoo"
      },
      "source": [
        "**Анализ данных**\n",
        "\n",
        "Опишем поведение клиентов оператора, исходя из выборки. "
      ]
    },
    {
      "cell_type": "code",
      "metadata": {
        "colab": {
          "base_uri": "https://localhost:8080/"
        },
        "id": "GcjIR3hKA1xq",
        "trusted": true,
        "outputId": "3f0ab43e-3570-45fa-826f-2b4054926881"
      },
      "source": [
        "df['tariff'].value_counts()"
      ],
      "execution_count": null,
      "outputs": [
        {
          "data": {
            "text/plain": "smart    2229\nultra     985\nName: tariff, dtype: int64"
          },
          "execution_count": 245,
          "metadata": {},
          "output_type": "execute_result"
        }
      ]
    },
    {
      "cell_type": "markdown",
      "metadata": {
        "id": "wjCAiwBxG2W0"
      },
      "source": [
        "Тариф Смарт имеет в 2,2 раза больше пользователей, чем Ультра.\n",
        "\n",
        "Посмотрим на доходы от каждого тарифа."
      ]
    },
    {
      "cell_type": "code",
      "metadata": {
        "id": "OtzgW9qGFs-7",
        "trusted": true
      },
      "source": [
        "ultra = df[df['tariff'] == 'ultra']['total_paid']"
      ],
      "execution_count": null,
      "outputs": []
    },
    {
      "cell_type": "code",
      "metadata": {
        "colab": {
          "base_uri": "https://localhost:8080/",
          "height": 295
        },
        "id": "ZC3vvKknbnqj",
        "trusted": true,
        "outputId": "f1525809-c2bd-4c20-ed5b-7653fdf81410"
      },
      "source": [
        "ultra.plot(kind = 'hist', bins = 10, label = 'ultra', figsize = (6,4), range = (1800,2800))\n",
        "plt.title('Ultra')\n",
        "plt.xlabel('Доходы')\n",
        "plt.show() "
      ],
      "execution_count": null,
      "outputs": [
        {
          "data": {
            "image/png": "[encoded data removed]",
            "text/plain": "<Figure size 432x288 with 1 Axes>"
          },
          "metadata": {
            "needs_background": "light"
          },
          "output_type": "display_data"
        }
      ]
    },
    {
      "cell_type": "code",
      "metadata": {
        "id": "UR2J-SunJByq",
        "trusted": true
      },
      "source": [
        "smart = df[df['tariff'] == 'smart']['total_paid']"
      ],
      "execution_count": null,
      "outputs": []
    },
    {
      "cell_type": "code",
      "metadata": {
        "colab": {
          "base_uri": "https://localhost:8080/",
          "height": 295
        },
        "id": "23jvoYL_9Hhd",
        "trusted": true,
        "outputId": "ce8ada3f-4ae6-466d-edfb-dc31c2a95f9b"
      },
      "source": [
        "smart.plot(kind = 'hist', bins = 30, label = 'smart', figsize = (6,4), range = (500,3800))\n",
        "plt.title('Smart')\n",
        "plt.xlabel('Доходы')\n",
        "plt.show()                                                                         \n",
        "\n",
        "\n",
        "                                                                            "
      ],
      "execution_count": null,
      "outputs": [
        {
          "data": {
            "image/png": "[encoded data removed]",
            "text/plain": "<Figure size 432x288 with 1 Axes>"
          },
          "metadata": {
            "needs_background": "light"
          },
          "output_type": "display_data"
        }
      ]
    },
    {
      "cell_type": "code",
      "metadata": {
        "colab": {
          "base_uri": "https://localhost:8080/",
          "height": 193
        },
        "id": "LJau1AqWX2VZ",
        "trusted": true,
        "outputId": "f12a96f0-7c9d-4dec-af20-1e6574b236f3"
      },
      "source": [
        "df.pivot_table(index = 'tariff', values = ['calls_by_month_duration',\n",
        "                                                        'messages_by_month_total',\n",
        "                                                        'internet_by_month_total','total_paid'], aggfunc = [\"median\",\n",
        "                                                                                     \"mean\",\n",
        "                                                                                     'var',\n",
        "                                                                                     'std'])"
      ],
      "execution_count": null,
      "outputs": [
        {
          "data": {
            "text/html": "<div>\n<style scoped>\n    .dataframe tbody tr th:only-of-type {\n        vertical-align: middle;\n    }\n\n    .dataframe tbody tr th {\n        vertical-align: top;\n    }\n\n    .dataframe thead tr th {\n        text-align: left;\n    }\n\n    .dataframe thead tr:last-of-type th {\n        text-align: right;\n    }\n</style>\n<table border=\"1\" class=\"dataframe\">\n  <thead>\n    <tr>\n      <th></th>\n      <th colspan=\"4\" halign=\"left\">median</th>\n      <th colspan=\"4\" halign=\"left\">mean</th>\n      <th colspan=\"4\" halign=\"left\">var</th>\n      <th colspan=\"4\" halign=\"left\">std</th>\n    </tr>\n    <tr>\n      <th></th>\n      <th>calls_by_month_duration</th>\n      <th>internet_by_month_total</th>\n      <th>messages_by_month_total</th>\n      <th>total_paid</th>\n      <th>calls_by_month_duration</th>\n      <th>internet_by_month_total</th>\n      <th>messages_by_month_total</th>\n      <th>total_paid</th>\n      <th>calls_by_month_duration</th>\n      <th>internet_by_month_total</th>\n      <th>messages_by_month_total</th>\n      <th>total_paid</th>\n      <th>calls_by_month_duration</th>\n      <th>internet_by_month_total</th>\n      <th>messages_by_month_total</th>\n      <th>total_paid</th>\n    </tr>\n    <tr>\n      <th>tariff</th>\n      <th></th>\n      <th></th>\n      <th></th>\n      <th></th>\n      <th></th>\n      <th></th>\n      <th></th>\n      <th></th>\n      <th></th>\n      <th></th>\n      <th></th>\n      <th></th>\n      <th></th>\n      <th></th>\n      <th></th>\n      <th></th>\n    </tr>\n  </thead>\n  <tbody>\n    <tr>\n      <td>smart</td>\n      <td>423.0</td>\n      <td>16532.0</td>\n      <td>34.0</td>\n      <td>960.0</td>\n      <td>419.062978</td>\n      <td>16236.472621</td>\n      <td>38.716441</td>\n      <td>1233.641095</td>\n      <td>35844.189551</td>\n      <td>3.444310e+07</td>\n      <td>717.594201</td>\n      <td>620699.733786</td>\n      <td>189.325618</td>\n      <td>5868.824472</td>\n      <td>26.787949</td>\n      <td>787.844994</td>\n    </tr>\n    <tr>\n      <td>ultra</td>\n      <td>528.0</td>\n      <td>19411.0</td>\n      <td>51.0</td>\n      <td>1950.0</td>\n      <td>545.451104</td>\n      <td>19686.767179</td>\n      <td>61.161006</td>\n      <td>2060.598985</td>\n      <td>94203.418396</td>\n      <td>9.904344e+07</td>\n      <td>2109.659183</td>\n      <td>127060.630690</td>\n      <td>306.925754</td>\n      <td>9952.057054</td>\n      <td>45.931026</td>\n      <td>356.455650</td>\n    </tr>\n  </tbody>\n</table>\n</div>",
            "text/plain": "                        median                          \\\n       calls_by_month_duration internet_by_month_total   \ntariff                                                   \nsmart                    423.0                 16532.0   \nultra                    528.0                 19411.0   \n\n                                                             mean  \\\n       messages_by_month_total total_paid calls_by_month_duration   \ntariff                                                              \nsmart                     34.0      960.0              419.062978   \nultra                     51.0     1950.0              545.451104   \n\n                                                                     \\\n       internet_by_month_total messages_by_month_total   total_paid   \ntariff                                                                \nsmart             16236.472621               38.716441  1233.641095   \nultra             19686.767179               61.161006  2060.598985   \n\n                           var                          \\\n       calls_by_month_duration internet_by_month_total   \ntariff                                                   \nsmart             35844.189551            3.444310e+07   \nultra             94203.418396            9.904344e+07   \n\n                                                                  std  \\\n       messages_by_month_total     total_paid calls_by_month_duration   \ntariff                                                                  \nsmart               717.594201  620699.733786              189.325618   \nultra              2109.659183  127060.630690              306.925754   \n\n                                                                    \n       internet_by_month_total messages_by_month_total  total_paid  \ntariff                                                              \nsmart              5868.824472               26.787949  787.844994  \nultra              9952.057054               45.931026  356.455650  "
          },
          "execution_count": 250,
          "metadata": {},
          "output_type": "execute_result"
        }
      ]
    },
    {
      "cell_type": "markdown",
      "metadata": {
        "id": "IHC7EuqRySTy"
      },
      "source": [
        "Сравним разницу между медианой и средним.\n",
        "\n",
        "Смарт: данные скошены вправо для количества отправленных в месяц сообщений и общего счета за связь. Клиенты тарифа Смарт переплачивают, скорее всего, за дополнительные минуты или трафик.\n",
        "\n",
        "Также мы видим бОльший разброс у Ультра в показателях звонков, сообщений и интернета. Это неудивительно, ведь Ультра предоставляет больше минут, смс и мегабайт. Но противоположную картину мы видим для оплаченных счетов, что говорит о том, что пользователи тарифа Смарт могут платить как значительно меньше, так и значительно больше пользователей тарифа Ультра.\n",
        "\n",
        "Основная масса клиентов Ультра платит за предоставленный пакет услуг."
      ]
    },
    {
      "cell_type": "code",
      "metadata": {
        "colab": {
          "base_uri": "https://localhost:8080/",
          "height": 1000
        },
        "id": "tGtKbNxZYuac",
        "trusted": true,
        "outputId": "f70cfabb-6c12-4a64-bcd2-10e7c52ba1f3"
      },
      "source": [
        "list_of_columns=['calls_by_month_duration','messages_by_month_total','internet_by_month_total','total_paid']\n",
        "tariffs = ['ultra','smart']\n",
        "for column in list_of_columns:\n",
        "        df.loc[df.loc[:,'tariff'] == 'smart'][column].plot(\n",
        "                                                                            kind = 'hist',\n",
        "                                                                            bins = 30,\n",
        "                                                                            label = 'smart', figsize = (8,4)\n",
        "                                                                           )\n",
        "                                                                          \n",
        "        df.loc[df.loc[:,'tariff'] == \"ultra\"][column].plot(\n",
        "                                                                            kind = 'hist',\n",
        "                                                                            bins = 30,\n",
        "                                                                            alpha =0.7,\n",
        "                                                                            label = 'ultra',figsize = (8,4)\n",
        "                                                                           )\n",
        "        plt.title(column)\n",
        "        plt.legend()\n",
        "        plt.show()"
      ],
      "execution_count": null,
      "outputs": [
        {
          "data": {
            "image/png": "[encoded data removed]",
            "text/plain": "<Figure size 576x288 with 1 Axes>"
          },
          "metadata": {
            "needs_background": "light"
          },
          "output_type": "display_data"
        },
        {
          "data": {
            "image/png": "[encoded data removed]",
            "text/plain": "<Figure size 576x288 with 1 Axes>"
          },
          "metadata": {
            "needs_background": "light"
          },
          "output_type": "display_data"
        },
        {
          "data": {
            "image/png": "[encoded data removed]",
            "text/plain": "<Figure size 576x288 with 1 Axes>"
          },
          "metadata": {
            "needs_background": "light"
          },
          "output_type": "display_data"
        },
        {
          "data": {
            "image/png": "[encoded data removed]",
            "text/plain": "<Figure size 576x288 with 1 Axes>"
          },
          "metadata": {
            "needs_background": "light"
          },
          "output_type": "display_data"
        }
      ]
    },
    {
      "cell_type": "markdown",
      "metadata": {
        "id": "RRzuK3xTbAe4"
      },
      "source": [
        "По тарифному плану \"Смарт\" включено 500 минут разговора, 50 сообщений и 15 Гб интернет-трафика. В среднем пользователи тарифа «Смарт» говорят по телефону 423 минуты в месяц, что укладывается в тарифный пакет. Однако, на гистограмме видно, что чуть меньше половины превышают этот лимит. Средний показатель по сообщениям составляет 34 смс. Треть пользователей превышают лимит в 50 сообщений. Среднее по потреблению интернет трафика - 16,12 ГБ, основная масса потребления находится в диапазаоне 10-25 ГБ.\n",
        "\n",
        "По тарифному плану \"Ультра\" включено 3000 минут разговора, 1000 сообщений и 30 Гб интернет-трафика.\n",
        "\n",
        "В среднем пользователи тарифа «Ультра» говорят по телефону 528 минут в месяц, что укладывается в тарифный пакет. Основная часть клиентов использует 750 минут, и включенные 3000 минут оказываются лишними. Средний показатель по сообщениям составляет 51 смс. Однако, на гистограмме видно, что основная масса отправленных сообщений лежит в пределах 100, и включенные 1000 смс также оказываются лишними. Среднее по потреблению интернет трафика - 18,9 ГБ. Основная масса потребления не превышает включенный в тариф лимит.\n",
        "\n",
        "Таким образом, мы видим, что при подключении тарифа «Смарт» клиент испытывает недостаток по минутам разговора и гигабайтам интернета, а клиенты, подключившие тариф «Ультра», не используют все минуты и смс, включенные в пакет.\n",
        "\n",
        "Посмотрим, сколько переплачивают клиенты по каждому тарифу."
      ]
    },
    {
      "cell_type": "code",
      "metadata": {
        "colab": {
          "base_uri": "https://localhost:8080/",
          "height": 434
        },
        "id": "2_dd6Jm-U2CW",
        "trusted": true,
        "outputId": "729b49d9-cb8c-4a8f-c7e9-54c5f842af20"
      },
      "source": [
        "over_lim_smart = df[(df['tariff'] == 'smart') & (df['added_expenses'] > 0)]['added_expenses']                     \n",
        "over_lim_smart.plot(kind='hist', ec='black', bins=30)\n",
        "plt.title('Переплаты по тарифу Смарт')\n",
        "over_lim_smart.describe()"
      ],
      "execution_count": null,
      "outputs": [
        {
          "data": {
            "text/plain": "count    1665.000000\nmean      915.216817\nstd       786.773010\nmin         2.000000\n25%       297.000000\n50%       729.000000\n75%      1350.000000\nmax      6162.000000\nName: added_expenses, dtype: float64"
          },
          "execution_count": 252,
          "metadata": {},
          "output_type": "execute_result"
        },
        {
          "data": {
            "image/png": "[encoded data removed]",
            "text/plain": "<Figure size 432x288 with 1 Axes>"
          },
          "metadata": {
            "needs_background": "light"
          },
          "output_type": "display_data"
        }
      ]
    },
    {
      "cell_type": "markdown",
      "metadata": {
        "id": "gKO-BdibL5B5"
      },
      "source": [
        "По тарифу Смарт переплатило 1665 человека. В среднем сумма переплат составляла 730 рублей. Основная масса клиентов переплачивала до 1200 рублей."
      ]
    },
    {
      "cell_type": "code",
      "metadata": {
        "colab": {
          "base_uri": "https://localhost:8080/",
          "height": 434
        },
        "id": "H09Ag9AkK6-a",
        "trusted": true,
        "outputId": "693b2177-3219-47d9-cf9e-032a372e9089"
      },
      "source": [
        "over_lim_ultra = df[(df['tariff'] == 'ultra') & (df['added_expenses'] > 0)]['added_expenses']                     \n",
        "over_lim_ultra.plot(kind='hist', ec='black', bins=30)\n",
        "plt.title('Переплаты по тарифу Ультра')\n",
        "over_lim_ultra.describe()"
      ],
      "execution_count": null,
      "outputs": [
        {
          "data": {
            "text/plain": "count     134.000000\nmean      812.985075\nstd       603.932725\nmin        42.000000\n25%       332.000000\n50%       654.000000\n75%      1208.000000\nmax      2794.000000\nName: added_expenses, dtype: float64"
          },
          "execution_count": 253,
          "metadata": {},
          "output_type": "execute_result"
        },
        {
          "data": {
            "image/png": "[encoded data removed]",
            "text/plain": "<Figure size 432x288 with 1 Axes>"
          },
          "metadata": {
            "needs_background": "light"
          },
          "output_type": "display_data"
        }
      ]
    },
    {
      "cell_type": "markdown",
      "metadata": {
        "id": "dSwNHAYaMwM9"
      },
      "source": [
        "По тарифу Ультра переплатило 134 человека. В среднем сумма переплат составляла 650 рублей. Основная масса клиентов переплачивала до 1400 рублей."
      ]
    },
    {
      "cell_type": "markdown",
      "metadata": {
        "id": "jRPe51zlNM9U"
      },
      "source": [
        "Таким образом, по параметрам переплат мы видим, что пакета тарифа Сматрт не хватает больше, чем половине клиентов. Возможным решением может стать тариф с пакетом 700 минут и безлимитный или 25 ГБ интернет стоимостью в пределах 1000-1200 рублей. Тем не менее, из двух имеющихся тарифов наиболее оптимальным для пользователей является Ультра, несмотря на то, что он дороже в 3,5 раза. Очевидно, что клиенты готовы платить за интернет, основная их масса расходует 10-25 ГБ. Но тариф Смарт принес компании больше денег за год.\n"
      ]
    },
    {
      "cell_type": "markdown",
      "metadata": {
        "id": "_pGydQ35cIxA"
      },
      "source": [
        " \n",
        "В целом предоставленные нам данные оказались довольно чистыми. Мы привели некоторые значения к целому, к единому временному формату, округлили.\n",
        "В данных было много нулевых значений по звонкам и интернету.\n",
        "Нами было принято решение не избавляться от нулей и выбросов. Мы сделали предположения о причине их появления. Нули не влияют на решение поставленных задач, а выбросы влияют на итоговую выручку. Например, клиенты, которые говорят по 1500 минут или используют 50 ГБ интернета, и, как следствие, переплачивают по 6000 рублей ежемесячно, на наш взгляд, должны быть включены в анализ, как важные элементы формирования итоговой выручки компании. К тому же, мы не располагаем информацией о том, являются ли нулевые значения ошибкой.\n",
        "\n",
        "Столбец churn_date почти полностью состоял из пропусков. Мы знаем, что это закономерно, но в будущем предложили бы “Мегалайну” все-таки заполнять этот столбец в каком-либо datetime формате.\n",
        "\n",
        "Считая показатели потребленных минут, смс и интернет-трафика за месяц, мы выяснили, что существует линейный рост каждый месяц, и предположили, что мы наблюдаем запуск самого “Мегалайна” или тарифов Смарт и Ультра.\n",
        "\n",
        "При подсчете помесячной выручки оказалось, что общая выручка \"Мегалайна\" за весь рассматриваемый период от тарифа Смарт в 1,3 раза выше, чем от тарифа Ультра. При этом средний показатель по выручке от Смарт в 2 раза ниже.\n",
        "Клиентам тарифа Смарт приходится переплачивать за дополнительные минуты и мегабайты. Очевидно, что предоставленного пакета им не хватает. У клиентов Ультра, наоборот, минут и интернета в избытке. Смс же и вовсе нужны пользователям меньше всего. В будующем стоит ориентироваться на средний показатель выручки. Такой разброс в пользовательском поведении, особенно огромное количество доплат в Смарт и малое количество клиентов в Ультра, говорит о том, что ни один их рассматриваемых тарифов не являются оптимальным.\n",
        "\n",
        "\n"
      ]
    },
    {
      "cell_type": "markdown",
      "metadata": {
        "id": "KdHJ9ICk0nuk"
      },
      "source": [
        "**3. Проверьте гипотезы**\n",
        "\n",
        "средняя выручка пользователей тарифов «Ультра» и «Смарт» различается;\n",
        "\n",
        "средняя выручка пользователей из Москвы отличается от выручки пользователей из других регионов.\n",
        "\n",
        "Поясните:\n",
        "\n",
        "как вы формулировали нулевую и альтернативную гипотезы;\n",
        "\n",
        "какой критерий использовали для проверки гипотез и почему."
      ]
    },
    {
      "cell_type": "markdown",
      "metadata": {
        "id": "bVUo2ny6426T"
      },
      "source": [
        "**Гипотеза № 1**\n",
        "\n",
        "Н0: Средняя выручка пользователей тарифов «Ультра» и «Смарт» не различается.\n",
        "\n",
        "Н1: Средняя выручка пользователей тарифов «Ультра» и «Смарт» различается.\n",
        "\n",
        "Мы уже выяснили, что выручка \"Мегалайна\" от тарифа Смарт (2,7 млн.) в 1,3 раза выше, чем от тарифа Ультра (2 млн.). Несмотря на то, что за Ультра приходится платить в 3,5 раза больше, Смарт в 2,2 раза популярнее и сверх установленного лимита переплачивает в 12 раз больше клиентов.\n",
        "\n",
        "С помощью методов матстатистики проверим, были ли мы правы. Используем метод ttest_ind для двух независимых выборок с разной дисперсией. Установим уровень значимости в 0,05 - мы отвергнем Н0 с вероятностью 5% и меньше. equal_var = False, потому что дисперсии наших выборок отличаются.\n",
        "\n",
        "\n"
      ]
    },
    {
      "cell_type": "code",
      "metadata": {
        "colab": {
          "base_uri": "https://localhost:8080/"
        },
        "id": "pmSxTgl8RbeL",
        "trusted": true,
        "outputId": "adca0b4b-9532-48ce-9426-079f954f9ce4"
      },
      "source": [
        "alpha = 0.05\n",
        "results = st.ttest_ind(df[df['tariff'] == 'smart']['total_paid'], df[df['tariff'] == 'ultra']['total_paid'], equal_var = False)\n",
        "\n",
        "print('P-value:', results.pvalue)\n",
        "\n",
        "if (results.pvalue < alpha):\n",
        "   print(\"Отвергаем нулевую гипотезу\")\n",
        "else:\n",
        "   print(\"Не получилось отвергнуть нулевую гипотезу\")"
      ],
      "execution_count": null,
      "outputs": [
        {
          "name": "stdout",
          "output_type": "stream",
          "text": "P-value: 1.620572799195892e-295\nОтвергаем нулевую гипотезу\n"
        }
      ]
    },
    {
      "cell_type": "markdown",
      "metadata": {
        "id": "njaiGTAGH4Fy"
      },
      "source": [
        "Вероятность случайного совпадения средних наших выборок ничтожно мало, поэтому мы отвергаем гипотезу о том, что средняя выручка пользователей тарифов «Ультра» и «Смарт» не различается."
      ]
    },
    {
      "cell_type": "markdown",
      "metadata": {
        "id": "RukdUoDeIHl6"
      },
      "source": [
        "**Гипотеза № 2**\n",
        "\n",
        " Используем метод ttest_ind для двух независимых выборок с разной дисперсией. Установим уровень значимости в 0,05 - мы отвергнем Н0 с вероятностью 5% и меньше.\n",
        "\n",
        "equal_var = False, потому что дисперсии наших выборок отличаются.\n",
        "\n",
        "Н0: Средняя выручка пользователей из Москвы не отличается от выручки пользователей из других регионов;\n",
        "\n",
        "Н1: Средняя выручка пользователей из Москвы отличается от выручки пользователей из других регионов."
      ]
    },
    {
      "cell_type": "code",
      "metadata": {
        "colab": {
          "base_uri": "https://localhost:8080/"
        },
        "id": "Cv6lcrot-gwu",
        "trusted": true,
        "outputId": "3de64015-7ea4-4b00-afd8-7f09be5ee8b6"
      },
      "source": [
        "alpha = 0.05\n",
        "results = st.ttest_ind(df[df['city'] == 'Москва']['total_paid'], df[df['city'] != 'Москва']['total_paid'], equal_var = False)\n",
        "print('P-value:', results.pvalue)\n",
        "\n",
        "if (results.pvalue < alpha):\n",
        "   print(\"Отвергаем нулевую гипотезу\")\n",
        "else:\n",
        "   print(\"Не получилось отвергнуть нулевую гипотезу\")"
      ],
      "execution_count": null,
      "outputs": [
        {
          "name": "stdout",
          "output_type": "stream",
          "text": "P-value: 0.4553974892423337\nНе получилось отвергнуть нулевую гипотезу\n"
        }
      ]
    },
    {
      "cell_type": "markdown",
      "metadata": {
        "id": "XTLIuZ0ZNEdn"
      },
      "source": [
        "C вероятностью в почти 40% такое или большее различие можно получить случайно. Это явно слишком большая вероятность, чтобы делать вывод о значимом различии между выручкой от Москвы и остальных регионов.\n"
      ]
    },
    {
      "cell_type": "markdown",
      "metadata": {
        "id": "qa7CDF41EKm2"
      },
      "source": [
        "Средняя выручка пользователей тарифов «Ультра» и «Смарт» различается.\n",
        "С вероятностью 60% можно делать вывод о том, что клиенты из Москвы и регионов приносят “Мегалайну” одинаковый доход.\n"
      ]
    },
    {
      "cell_type": "markdown",
      "metadata": {
        "id": "L-6MEw1gKmVT"
      },
      "source": [
        "**Общий вывод**\n",
        "\n",
        "Общая выручка \"Мегалайна\" за весь рассматриваемый период от тарифа Смарт (2,7 млн.) в 1,3 раза выше, чем от тарифа Ультра (2 млн.). При этом средний показатель по выручке от Смарт в 2 раза ниже, несмотря на то, что Смарт в 2,2 популярнее у клиентов.\n",
        "\n",
        "Клиенты тарифа Смарт переплачивают  за дополнительные минуты или трафик.\n",
        "По тарифу Смарт переплатило 1665 человека. В среднем сумма переплат составляла 730 рублей. Основная масса клиентов переплачивала до 1200 рублей. Пакета тарифа Сматрт не хватает больше, чем половине клиентов.\n",
        "\n",
        "По тарифу Ультра переплатило 134 человека. В среднем сумма переплат составляла 650 рублей. Основная масса клиентов переплачивала до 1400 рублей. У клиентов тарифа Ультра минут, смс и интернета в избытке. Данный тариф не оптимален из-за своей дороговизны и чрезмерности предоставляемых ресурсов. Тем не менее, в среднем он приносит больше выручки “Мегалайну”.\n",
        "\n",
        "Наиболее оптимальным решением может стать тариф с пакетом 700-750 минут, 50-100 смс и 25 ГБ интернета стоимостью в пределах 1000 рублей. Такой тариф мог бы стать популярным, доступным и удовлетворить все основные потребности клиентов в объеме услуг связи.\n",
        "\n",
        "Мы не видим смысла вводить отдельный тариф для клиентов в Москве.\n"
      ]
    }
  ]
}